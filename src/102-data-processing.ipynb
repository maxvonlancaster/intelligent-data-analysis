{
 "cells": [
  {
   "cell_type": "markdown",
   "id": "8cd0b3da",
   "metadata": {},
   "source": [
    "# Data Processing"
   ]
  },
  {
   "cell_type": "markdown",
   "id": "6fcd54c7",
   "metadata": {},
   "source": [
    "## Pandas\n",
    "\n",
    "Існує ряд бібліотек Python, які обробляють реляційні дані, зазвичай написані як інтерфейси до декількох різних систем управління реляційними базами даних (таких як PostgreSQL, MySQL та інші). [Примітка: слід зазначити, що програмне забезпечення, таке як PostreSQL і MySQL, правильніше називати системами управління реляційними базами даних (RDBMS), а не базами даних. База даних — це фактичні таблиці та записи, що визначають фактичну сукупність даних.\n",
    "\n",
    "Однак у цьому курсі ми будемо працювати з реляційними даними переважно за допомогою двох бібліотек: Pandas і SQLite. Це особливо прості бібліотеки, якщо говорити про реальні бази даних: Pandas, безумовно, не є реальною системою реляційних баз даних (хоча вона надає функції, що віддзеркалюють деякі їхні можливості), тоді як SQLite є «реальною» RDBMS, але надзвичайно простою, без стандартної архітектури клієнт/сервер, яка є практично у всіх реальних виробничих базах даних. Проте для багатьох задач у галузі науки про дані вони будуть достатніми, тому ми зосередимося на них тут.\n",
    "\n",
    "Ми вже коротко розглянули Panda, коли обговорювали збір даних, і вона виявилася однією з найкорисніших бібліотек Python для науки про дані. Як ми вже згадували вище (але будемо повторювати цей факт багато разів), Pandas — це не бібліотека реляційних баз даних, а бібліотека «даних-рам». Ви можете уявити собі фрейм даних як 2D-масив, за винятком того, що записи у фреймі даних можуть бути будь-яким типом об'єкта Python (і мати змішані типи в масиві), а рядки/стовпці можуть мати «мітки» замість цілочисельних індексів, як у стандартному масиві.\n",
    "\n",
    "Давайте подивимося, як спочатку створити фрейм даних у Pandas, який відображає нашу таблицю Person вище (ми залишимо стовпець «Role ID» поза увагою, щоб спростити завдання)."
   ]
  },
  {
   "cell_type": "code",
   "execution_count": 1,
   "id": "3541495b",
   "metadata": {},
   "outputs": [
    {
     "data": {
      "text/html": [
       "<div>\n",
       "<style scoped>\n",
       "    .dataframe tbody tr th:only-of-type {\n",
       "        vertical-align: middle;\n",
       "    }\n",
       "\n",
       "    .dataframe tbody tr th {\n",
       "        vertical-align: top;\n",
       "    }\n",
       "\n",
       "    .dataframe thead th {\n",
       "        text-align: right;\n",
       "    }\n",
       "</style>\n",
       "<table border=\"1\" class=\"dataframe\">\n",
       "  <thead>\n",
       "    <tr style=\"text-align: right;\">\n",
       "      <th></th>\n",
       "      <th>id</th>\n",
       "      <th>last_name</th>\n",
       "      <th>first_name</th>\n",
       "    </tr>\n",
       "  </thead>\n",
       "  <tbody>\n",
       "    <tr>\n",
       "      <th>0</th>\n",
       "      <td>1</td>\n",
       "      <td>Kolter</td>\n",
       "      <td>Zico</td>\n",
       "    </tr>\n",
       "    <tr>\n",
       "      <th>1</th>\n",
       "      <td>2</td>\n",
       "      <td>Xi</td>\n",
       "      <td>Edgar</td>\n",
       "    </tr>\n",
       "    <tr>\n",
       "      <th>2</th>\n",
       "      <td>3</td>\n",
       "      <td>Lee</td>\n",
       "      <td>Mark</td>\n",
       "    </tr>\n",
       "    <tr>\n",
       "      <th>3</th>\n",
       "      <td>4</td>\n",
       "      <td>Mani</td>\n",
       "      <td>Shouvik</td>\n",
       "    </tr>\n",
       "    <tr>\n",
       "      <th>4</th>\n",
       "      <td>5</td>\n",
       "      <td>Gates</td>\n",
       "      <td>Bill</td>\n",
       "    </tr>\n",
       "    <tr>\n",
       "      <th>5</th>\n",
       "      <td>6</td>\n",
       "      <td>Musk</td>\n",
       "      <td>Elon</td>\n",
       "    </tr>\n",
       "  </tbody>\n",
       "</table>\n",
       "</div>"
      ],
      "text/plain": [
       "   id last_name first_name\n",
       "0   1    Kolter       Zico\n",
       "1   2        Xi      Edgar\n",
       "2   3       Lee       Mark\n",
       "3   4      Mani    Shouvik\n",
       "4   5     Gates       Bill\n",
       "5   6      Musk       Elon"
      ]
     },
     "execution_count": 1,
     "metadata": {},
     "output_type": "execute_result"
    }
   ],
   "source": [
    "import pandas as pd\n",
    "\n",
    "df = pd.DataFrame([(1, 'Kolter', 'Zico'), \n",
    "                   (2, 'Xi', 'Edgar'),\n",
    "                   (3, 'Lee', 'Mark'), \n",
    "                   (4, 'Mani', 'Shouvik'),\n",
    "                   (5, 'Gates', 'Bill'),\n",
    "                   (6, 'Musk', 'Elon')], \n",
    "                  columns=[\"id\", \"last_name\", \"first_name\"])\n",
    "df"
   ]
  },
  {
   "cell_type": "markdown",
   "id": "a42dfea9",
   "metadata": {},
   "source": [
    "«Індекс» для Pandas насправді означає щось більше, ніж «первинний ключ» у таблиці бази даних (хоча з тим винятком, що можливі дублікати записів). \n",
    "\n",
    "Тобто індекс (якщо він зроблений правильно, без дублікатів) є ідентифікатором для кожного рядка в базі даних. Ми можемо встановити індекс для одного з існуючих стовпців за допомогою виклику `.set_index()`.\n",
    "\n",
    "Але тут потрібно бути дуже обережним з одним моментом. За замовчуванням більшість операцій Pandas, таких як `.set_index()` та багато інших, не виконуються на місці. Тобто, хоча виклик df.set_index(«id») вище повертає копію фрейму даних df з індексом, встановленим для стовпця id (пам'ятайте, що Jupyter notebook відображає значення, яке повертається в останньому рядку комірки), оригінальний об'єкт df насправді тут не змінюється.\n",
    "\n",
    "Якщо ми хочемо фактично змінити сам об'єкт df, потрібно використовувати прапор `inplace=True` для цих функцій (або присвоїти оригінальний об'єкт результату функції, але це не так чітко)."
   ]
  },
  {
   "cell_type": "code",
   "execution_count": 2,
   "id": "f776a995",
   "metadata": {},
   "outputs": [
    {
     "name": "stdout",
     "output_type": "stream",
     "text": [
      "   last_name first_name\n",
      "id                     \n",
      "1     Kolter       Zico\n",
      "2         Xi      Edgar\n",
      "3        Lee       Mark\n",
      "4       Mani    Shouvik\n",
      "5      Gates       Bill\n",
      "6       Musk       Elon\n"
     ]
    },
    {
     "data": {
      "text/html": [
       "<div>\n",
       "<style scoped>\n",
       "    .dataframe tbody tr th:only-of-type {\n",
       "        vertical-align: middle;\n",
       "    }\n",
       "\n",
       "    .dataframe tbody tr th {\n",
       "        vertical-align: top;\n",
       "    }\n",
       "\n",
       "    .dataframe thead th {\n",
       "        text-align: right;\n",
       "    }\n",
       "</style>\n",
       "<table border=\"1\" class=\"dataframe\">\n",
       "  <thead>\n",
       "    <tr style=\"text-align: right;\">\n",
       "      <th></th>\n",
       "      <th>last_name</th>\n",
       "      <th>first_name</th>\n",
       "    </tr>\n",
       "    <tr>\n",
       "      <th>id</th>\n",
       "      <th></th>\n",
       "      <th></th>\n",
       "    </tr>\n",
       "  </thead>\n",
       "  <tbody>\n",
       "    <tr>\n",
       "      <th>1</th>\n",
       "      <td>Kolter</td>\n",
       "      <td>Zico</td>\n",
       "    </tr>\n",
       "    <tr>\n",
       "      <th>2</th>\n",
       "      <td>Xi</td>\n",
       "      <td>Edgar</td>\n",
       "    </tr>\n",
       "    <tr>\n",
       "      <th>3</th>\n",
       "      <td>Lee</td>\n",
       "      <td>Mark</td>\n",
       "    </tr>\n",
       "    <tr>\n",
       "      <th>4</th>\n",
       "      <td>Mani</td>\n",
       "      <td>Shouvik</td>\n",
       "    </tr>\n",
       "    <tr>\n",
       "      <th>5</th>\n",
       "      <td>Gates</td>\n",
       "      <td>Bill</td>\n",
       "    </tr>\n",
       "    <tr>\n",
       "      <th>6</th>\n",
       "      <td>Musk</td>\n",
       "      <td>Elon</td>\n",
       "    </tr>\n",
       "  </tbody>\n",
       "</table>\n",
       "</div>"
      ],
      "text/plain": [
       "   last_name first_name\n",
       "id                     \n",
       "1     Kolter       Zico\n",
       "2         Xi      Edgar\n",
       "3        Lee       Mark\n",
       "4       Mani    Shouvik\n",
       "5      Gates       Bill\n",
       "6       Musk       Elon"
      ]
     },
     "execution_count": 2,
     "metadata": {},
     "output_type": "execute_result"
    }
   ],
   "source": [
    "print(df.set_index(\"id\"))\n",
    "\n",
    "# df\n",
    "\n",
    "df.set_index(\"id\", inplace=True)\n",
    "df\n"
   ]
  },
  {
   "cell_type": "code",
   "execution_count": 8,
   "id": "fdeb7b16",
   "metadata": {},
   "outputs": [
    {
     "data": {
      "text/plain": [
       "'Bill'"
      ]
     },
     "execution_count": 8,
     "metadata": {},
     "output_type": "execute_result"
    }
   ],
   "source": [
    "# You can access individual elements using the `.loc[row, column]` notation, where row denotes the index you \n",
    "# are searching for and column denotes the column name.\n",
    "df.loc[1, \"last_name\"]\n",
    "\n",
    "# If we want to access all last names, (or all elements in a particular row), we use the : wildcard. For example\n",
    "df.loc[:, \"last_name\"]\n",
    "\n",
    "# We can pass a list of desired columns, to get a DataFRame return objet:\n",
    "df.loc[:, [\"last_name\"]]\n",
    "\n",
    "# We can do a similar thing with row indexes.\n",
    "df.loc[[1,2],:]\n",
    "\n",
    "# We can additionally use `.loc` to change the content of existing entries:\n",
    "df.loc[1,\"last_name\"] = \"Kilter\"\n",
    "df\n",
    "\n",
    "# We can even add additional rows/columns\n",
    "df.loc[7,:] = ('Moore', 'Andrew')\n",
    "df\n",
    "\n",
    "# Finally, remember that `.loc` always indexes based upon the “index” (i.e., effectively primary key) of the data \n",
    "# frame along with the column name. If you want to instead access based upon positional index (i.e., using 0-indexed \n",
    "# counters for both the rows and columns), you can use the `.iloc` property\n",
    "df.iloc[4,1]"
   ]
  },
  {
   "cell_type": "markdown",
   "id": "ab702cac",
   "metadata": {},
   "source": [
    "Методи очищення даних та обробка відсутніх значень\n",
    "\n",
    "У реальному світі необроблені дані рідко бувають ідеальними. Вони часто містять помилки, невідповідності та відсутні значення. Очищення даних — це процес виявлення та виправлення цих проблем для поліпшення якості даних.\n",
    "\n",
    "- *Дублікати*: це повторювані записи в наборі даних. Дублікати рядків можуть спотворити ваш аналіз або модель, особливо якщо вони представляють одну й ту саму подію або об'єкт.\n",
    "- *Неправильні типи даних*: дані, які введені неправильно (наприклад, числа, збережені як рядки), можуть призвести до помилок в аналізі та навчанні моделі.\n",
    "- *Випадкові значення*: екстремальні значення, які значно відрізняються від решти даних. Вони можуть спотворити результати статистичного аналізу або моделей машинного навчання.\n",
    "\n",
    "Відсутність даних може відбуватися з різних причин, таких як помилки введення даних, несправності обладнання або проблеми з конфіденційністю. Важливо обережно поводитися з відсутніми значеннями, оскільки неправильне поводження може призвести до упереджених результатів.\n",
    "\n",
    "Типи відсутніх даних:\n",
    "\n",
    "- *MCAR* (Missing Completely at Random, повністю випадкова відсутність): ймовірність відсутності даних не залежить від самих даних.\n",
    "- *MAR* (відсутність випадкова): ймовірність відсутності даних пов'язана з іншими спостережуваними даними, але не з самими відсутніми даними.\n",
    "- *MNAR* (відсутність невипадкова): відсутність пов'язана з самими неспостережуваними даними.\n",
    "\n",
    "**Видалення відсутніх даних**:\n",
    "\n",
    "Видалення рядків або стовпців з відсутніми значеннями є найпростішим підходом, але може призвести до втрати цінної інформації."
   ]
  },
  {
   "cell_type": "code",
   "execution_count": 1,
   "id": "fc04338b",
   "metadata": {},
   "outputs": [
    {
     "name": "stdout",
     "output_type": "stream",
     "text": [
      "   feature1  feature2 categorical_column  target\n",
      "0       1.2       3.2                  A      10\n",
      "1       2.3       NaN                  B      15\n",
      "2       3.1       1.1                  C       7\n",
      "3       4.7       4.8                  A      18\n",
      "4       NaN       2.7                  B      11\n",
      "5       5.1       4.2                  C      19\n",
      "6       2.8       NaN                  A      13\n",
      "7       4.1       3.9                  B      16\n",
      "8       5.3       4.1                NaN      14\n",
      "9       3.3       2.1                  C      12 \n",
      "\n",
      "   feature1  feature2 categorical_column  target\n",
      "0       1.2       3.2                  A      10\n",
      "2       3.1       1.1                  C       7\n",
      "3       4.7       4.8                  A      18\n",
      "5       5.1       4.2                  C      19\n",
      "7       4.1       3.9                  B      16\n",
      "9       3.3       2.1                  C      12 \n",
      "\n",
      "   feature1  feature2 categorical_column  target\n",
      "0       1.2       3.2                  A      10\n",
      "2       3.1       1.1                  C       7\n",
      "3       4.7       4.8                  A      18\n",
      "5       5.1       4.2                  C      19\n",
      "7       4.1       3.9                  B      16\n",
      "8       5.3       4.1                NaN      14\n",
      "9       3.3       2.1                  C      12 \n",
      "\n"
     ]
    }
   ],
   "source": [
    "import pandas as pd\n",
    "\n",
    "df = pd.read_csv('../resources/data.csv')\n",
    "print(df, '\\n')\n",
    "df_cleaned = df.dropna()  # Drops all rows with any missing values\n",
    "# Drop rows with any missing values in numerical columns\n",
    "df_feature_cleaned = df.dropna(subset=['feature1', 'feature2'])\n",
    "print(df_cleaned, '\\n')\n",
    "print(df_feature_cleaned, '\\n')"
   ]
  },
  {
   "cell_type": "markdown",
   "id": "9628b6ee",
   "metadata": {},
   "source": [
    "**Mean Imputation** (заповнення середнім): Замінити відсутні значення середнім значенням стовпця."
   ]
  },
  {
   "cell_type": "code",
   "execution_count": 2,
   "id": "4d31a5fb",
   "metadata": {},
   "outputs": [
    {
     "data": {
      "text/html": [
       "<div>\n",
       "<style scoped>\n",
       "    .dataframe tbody tr th:only-of-type {\n",
       "        vertical-align: middle;\n",
       "    }\n",
       "\n",
       "    .dataframe tbody tr th {\n",
       "        vertical-align: top;\n",
       "    }\n",
       "\n",
       "    .dataframe thead th {\n",
       "        text-align: right;\n",
       "    }\n",
       "</style>\n",
       "<table border=\"1\" class=\"dataframe\">\n",
       "  <thead>\n",
       "    <tr style=\"text-align: right;\">\n",
       "      <th></th>\n",
       "      <th>feature1</th>\n",
       "      <th>feature2</th>\n",
       "      <th>categorical_column</th>\n",
       "      <th>target</th>\n",
       "    </tr>\n",
       "  </thead>\n",
       "  <tbody>\n",
       "    <tr>\n",
       "      <th>0</th>\n",
       "      <td>1.200000</td>\n",
       "      <td>3.2000</td>\n",
       "      <td>A</td>\n",
       "      <td>10</td>\n",
       "    </tr>\n",
       "    <tr>\n",
       "      <th>1</th>\n",
       "      <td>2.300000</td>\n",
       "      <td>3.2625</td>\n",
       "      <td>B</td>\n",
       "      <td>15</td>\n",
       "    </tr>\n",
       "    <tr>\n",
       "      <th>2</th>\n",
       "      <td>3.100000</td>\n",
       "      <td>1.1000</td>\n",
       "      <td>C</td>\n",
       "      <td>7</td>\n",
       "    </tr>\n",
       "    <tr>\n",
       "      <th>3</th>\n",
       "      <td>4.700000</td>\n",
       "      <td>4.8000</td>\n",
       "      <td>A</td>\n",
       "      <td>18</td>\n",
       "    </tr>\n",
       "    <tr>\n",
       "      <th>4</th>\n",
       "      <td>3.544444</td>\n",
       "      <td>2.7000</td>\n",
       "      <td>B</td>\n",
       "      <td>11</td>\n",
       "    </tr>\n",
       "    <tr>\n",
       "      <th>5</th>\n",
       "      <td>5.100000</td>\n",
       "      <td>4.2000</td>\n",
       "      <td>C</td>\n",
       "      <td>19</td>\n",
       "    </tr>\n",
       "    <tr>\n",
       "      <th>6</th>\n",
       "      <td>2.800000</td>\n",
       "      <td>3.2625</td>\n",
       "      <td>A</td>\n",
       "      <td>13</td>\n",
       "    </tr>\n",
       "    <tr>\n",
       "      <th>7</th>\n",
       "      <td>4.100000</td>\n",
       "      <td>3.9000</td>\n",
       "      <td>B</td>\n",
       "      <td>16</td>\n",
       "    </tr>\n",
       "    <tr>\n",
       "      <th>8</th>\n",
       "      <td>5.300000</td>\n",
       "      <td>4.1000</td>\n",
       "      <td>NaN</td>\n",
       "      <td>14</td>\n",
       "    </tr>\n",
       "    <tr>\n",
       "      <th>9</th>\n",
       "      <td>3.300000</td>\n",
       "      <td>2.1000</td>\n",
       "      <td>C</td>\n",
       "      <td>12</td>\n",
       "    </tr>\n",
       "  </tbody>\n",
       "</table>\n",
       "</div>"
      ],
      "text/plain": [
       "   feature1  feature2 categorical_column  target\n",
       "0  1.200000    3.2000                  A      10\n",
       "1  2.300000    3.2625                  B      15\n",
       "2  3.100000    1.1000                  C       7\n",
       "3  4.700000    4.8000                  A      18\n",
       "4  3.544444    2.7000                  B      11\n",
       "5  5.100000    4.2000                  C      19\n",
       "6  2.800000    3.2625                  A      13\n",
       "7  4.100000    3.9000                  B      16\n",
       "8  5.300000    4.1000                NaN      14\n",
       "9  3.300000    2.1000                  C      12"
      ]
     },
     "execution_count": 2,
     "metadata": {},
     "output_type": "execute_result"
    }
   ],
   "source": [
    "# Impute missing values with the mean of the respective column\n",
    "df['feature1'].fillna(df['feature1'].mean(), inplace=True)\n",
    "df['feature2'].fillna(df['feature2'].mean(), inplace=True)\n",
    "df"
   ]
  },
  {
   "cell_type": "markdown",
   "id": "1a904f9a",
   "metadata": {},
   "source": [
    "**Median Imputation**: Корисно, коли дані є викривленими."
   ]
  },
  {
   "cell_type": "code",
   "execution_count": 3,
   "id": "4b04101a",
   "metadata": {},
   "outputs": [
    {
     "data": {
      "text/html": [
       "<div>\n",
       "<style scoped>\n",
       "    .dataframe tbody tr th:only-of-type {\n",
       "        vertical-align: middle;\n",
       "    }\n",
       "\n",
       "    .dataframe tbody tr th {\n",
       "        vertical-align: top;\n",
       "    }\n",
       "\n",
       "    .dataframe thead th {\n",
       "        text-align: right;\n",
       "    }\n",
       "</style>\n",
       "<table border=\"1\" class=\"dataframe\">\n",
       "  <thead>\n",
       "    <tr style=\"text-align: right;\">\n",
       "      <th></th>\n",
       "      <th>feature1</th>\n",
       "      <th>feature2</th>\n",
       "      <th>categorical_column</th>\n",
       "      <th>target</th>\n",
       "    </tr>\n",
       "  </thead>\n",
       "  <tbody>\n",
       "    <tr>\n",
       "      <th>0</th>\n",
       "      <td>1.2</td>\n",
       "      <td>3.2</td>\n",
       "      <td>A</td>\n",
       "      <td>10</td>\n",
       "    </tr>\n",
       "    <tr>\n",
       "      <th>1</th>\n",
       "      <td>2.3</td>\n",
       "      <td>NaN</td>\n",
       "      <td>B</td>\n",
       "      <td>15</td>\n",
       "    </tr>\n",
       "    <tr>\n",
       "      <th>2</th>\n",
       "      <td>3.1</td>\n",
       "      <td>1.1</td>\n",
       "      <td>C</td>\n",
       "      <td>7</td>\n",
       "    </tr>\n",
       "    <tr>\n",
       "      <th>3</th>\n",
       "      <td>4.7</td>\n",
       "      <td>4.8</td>\n",
       "      <td>A</td>\n",
       "      <td>18</td>\n",
       "    </tr>\n",
       "    <tr>\n",
       "      <th>4</th>\n",
       "      <td>3.3</td>\n",
       "      <td>2.7</td>\n",
       "      <td>B</td>\n",
       "      <td>11</td>\n",
       "    </tr>\n",
       "    <tr>\n",
       "      <th>5</th>\n",
       "      <td>5.1</td>\n",
       "      <td>4.2</td>\n",
       "      <td>C</td>\n",
       "      <td>19</td>\n",
       "    </tr>\n",
       "    <tr>\n",
       "      <th>6</th>\n",
       "      <td>2.8</td>\n",
       "      <td>NaN</td>\n",
       "      <td>A</td>\n",
       "      <td>13</td>\n",
       "    </tr>\n",
       "    <tr>\n",
       "      <th>7</th>\n",
       "      <td>4.1</td>\n",
       "      <td>3.9</td>\n",
       "      <td>B</td>\n",
       "      <td>16</td>\n",
       "    </tr>\n",
       "    <tr>\n",
       "      <th>8</th>\n",
       "      <td>5.3</td>\n",
       "      <td>4.1</td>\n",
       "      <td>NaN</td>\n",
       "      <td>14</td>\n",
       "    </tr>\n",
       "    <tr>\n",
       "      <th>9</th>\n",
       "      <td>3.3</td>\n",
       "      <td>2.1</td>\n",
       "      <td>C</td>\n",
       "      <td>12</td>\n",
       "    </tr>\n",
       "  </tbody>\n",
       "</table>\n",
       "</div>"
      ],
      "text/plain": [
       "   feature1  feature2 categorical_column  target\n",
       "0       1.2       3.2                  A      10\n",
       "1       2.3       NaN                  B      15\n",
       "2       3.1       1.1                  C       7\n",
       "3       4.7       4.8                  A      18\n",
       "4       3.3       2.7                  B      11\n",
       "5       5.1       4.2                  C      19\n",
       "6       2.8       NaN                  A      13\n",
       "7       4.1       3.9                  B      16\n",
       "8       5.3       4.1                NaN      14\n",
       "9       3.3       2.1                  C      12"
      ]
     },
     "execution_count": 3,
     "metadata": {},
     "output_type": "execute_result"
    }
   ],
   "source": [
    "df = pd.read_csv('../resources/data.csv')\n",
    "df['feature1'].fillna(df['feature1'].median(), inplace=True)\n",
    "df"
   ]
  },
  {
   "cell_type": "markdown",
   "id": "24176faa",
   "metadata": {},
   "source": [
    "**Mode Imputation:** Часто використовується для категоріальних даних."
   ]
  },
  {
   "cell_type": "code",
   "execution_count": 4,
   "id": "6f4d9a90",
   "metadata": {},
   "outputs": [
    {
     "data": {
      "text/html": [
       "<div>\n",
       "<style scoped>\n",
       "    .dataframe tbody tr th:only-of-type {\n",
       "        vertical-align: middle;\n",
       "    }\n",
       "\n",
       "    .dataframe tbody tr th {\n",
       "        vertical-align: top;\n",
       "    }\n",
       "\n",
       "    .dataframe thead th {\n",
       "        text-align: right;\n",
       "    }\n",
       "</style>\n",
       "<table border=\"1\" class=\"dataframe\">\n",
       "  <thead>\n",
       "    <tr style=\"text-align: right;\">\n",
       "      <th></th>\n",
       "      <th>feature1</th>\n",
       "      <th>feature2</th>\n",
       "      <th>categorical_column</th>\n",
       "      <th>target</th>\n",
       "    </tr>\n",
       "  </thead>\n",
       "  <tbody>\n",
       "    <tr>\n",
       "      <th>0</th>\n",
       "      <td>1.2</td>\n",
       "      <td>3.2</td>\n",
       "      <td>A</td>\n",
       "      <td>10</td>\n",
       "    </tr>\n",
       "    <tr>\n",
       "      <th>1</th>\n",
       "      <td>2.3</td>\n",
       "      <td>NaN</td>\n",
       "      <td>B</td>\n",
       "      <td>15</td>\n",
       "    </tr>\n",
       "    <tr>\n",
       "      <th>2</th>\n",
       "      <td>3.1</td>\n",
       "      <td>1.1</td>\n",
       "      <td>C</td>\n",
       "      <td>7</td>\n",
       "    </tr>\n",
       "    <tr>\n",
       "      <th>3</th>\n",
       "      <td>4.7</td>\n",
       "      <td>4.8</td>\n",
       "      <td>A</td>\n",
       "      <td>18</td>\n",
       "    </tr>\n",
       "    <tr>\n",
       "      <th>4</th>\n",
       "      <td>3.3</td>\n",
       "      <td>2.7</td>\n",
       "      <td>B</td>\n",
       "      <td>11</td>\n",
       "    </tr>\n",
       "    <tr>\n",
       "      <th>5</th>\n",
       "      <td>5.1</td>\n",
       "      <td>4.2</td>\n",
       "      <td>C</td>\n",
       "      <td>19</td>\n",
       "    </tr>\n",
       "    <tr>\n",
       "      <th>6</th>\n",
       "      <td>2.8</td>\n",
       "      <td>NaN</td>\n",
       "      <td>A</td>\n",
       "      <td>13</td>\n",
       "    </tr>\n",
       "    <tr>\n",
       "      <th>7</th>\n",
       "      <td>4.1</td>\n",
       "      <td>3.9</td>\n",
       "      <td>B</td>\n",
       "      <td>16</td>\n",
       "    </tr>\n",
       "    <tr>\n",
       "      <th>8</th>\n",
       "      <td>5.3</td>\n",
       "      <td>4.1</td>\n",
       "      <td>A</td>\n",
       "      <td>14</td>\n",
       "    </tr>\n",
       "    <tr>\n",
       "      <th>9</th>\n",
       "      <td>3.3</td>\n",
       "      <td>2.1</td>\n",
       "      <td>C</td>\n",
       "      <td>12</td>\n",
       "    </tr>\n",
       "  </tbody>\n",
       "</table>\n",
       "</div>"
      ],
      "text/plain": [
       "   feature1  feature2 categorical_column  target\n",
       "0       1.2       3.2                  A      10\n",
       "1       2.3       NaN                  B      15\n",
       "2       3.1       1.1                  C       7\n",
       "3       4.7       4.8                  A      18\n",
       "4       3.3       2.7                  B      11\n",
       "5       5.1       4.2                  C      19\n",
       "6       2.8       NaN                  A      13\n",
       "7       4.1       3.9                  B      16\n",
       "8       5.3       4.1                  A      14\n",
       "9       3.3       2.1                  C      12"
      ]
     },
     "execution_count": 4,
     "metadata": {},
     "output_type": "execute_result"
    }
   ],
   "source": [
    "df['categorical_column'].fillna(df['categorical_column'].mode()[0], inplace=True)\n",
    "df"
   ]
  },
  {
   "cell_type": "markdown",
   "id": "3c969974",
   "metadata": {},
   "source": [
    "Розширене заповнення даних:\n",
    "\n",
    "**Імпутування K-найближчих сусідів (KNN):** оцінює відсутні значення на основі значень найближчих сусідів.\n",
    "\n",
    "**Багатовимірне імпутування:** враховує взаємозв'язки між ознаками для імпутування відсутніх значень.\n",
    "\n",
    "**Створення індикаторних змінних:** інший підхід полягає у створенні бінарної індикаторної змінної, яка позначає наявність відсутніх даних."
   ]
  },
  {
   "cell_type": "markdown",
   "id": "646bb4dd",
   "metadata": {},
   "source": [
    "## Масштабування та нормалізація даних (Data Scaling and Normalization)\n",
    "\n",
    "Масштабування та нормалізація даних є важливими етапами попередньої обробки, які можуть суттєво вплинути на ефективність ваших моделей.\n",
    "\n",
    "Масштабування даних гарантує, що всі ознаки однаково впливають на процес навчання моделі. Коли ознаки мають дуже різні діапазони, ті, що мають більші діапазони, можуть домінувати в обчисленнях відстані або кроках градієнта, що призводить до неоптимальних моделей.\n",
    "\n",
    "*Алгоритми на основі відстані:* В алгоритмах, таких як K-найближчі сусіди (KNN) або машини опорних векторів (SVM), відстань між точками даних має вирішальне значення. Якщо одна ознака має набагато більший діапазон, ніж інші, вона непропорційно впливатиме на метрику відстані, що може спотворити результати.\n",
    "\n",
    "*Градієнтний спуск:* Алгоритми, такі як лінійна регресія та нейронні мережі, використовують градієнтний спуск для мінімізації функції вартості. Якщо ознаки не масштабуються, алгоритм градієнтного спуску може потребувати більше часу для збіжності або може збігатися до неоптимального рішення через нерівномірні кроки, зроблені в просторі параметрів.\n",
    "\n",
    "Мінімально-максимальне масштабування\n",
    "\n",
    "Перемасштабовує дані до фіксованого діапазону, зазвичай [0, 1]. Ця техніка особливо корисна, коли ви знаєте, що ваші дані відповідають розподілу з чіткими верхньою та нижньою межами.\n",
    "\n",
    "$$X' = \\frac{X-X_{min}}{X_{max}-X_{min}}$$\n",
    "\n",
    "- Використовуйте мінімально-максимальне масштабування, коли ви хочете, щоб усі ваші ознаки мали однаковий масштаб (наприклад, в алгоритмах, таких як KNN, SVM).\n",
    "- Особливо корисно, коли дані розподілені по відомому і фіксованому діапазону."
   ]
  },
  {
   "cell_type": "code",
   "execution_count": 5,
   "id": "99f2e9a3",
   "metadata": {},
   "outputs": [
    {
     "name": "stdout",
     "output_type": "stream",
     "text": [
      "[[0.        ]\n",
      " [0.21052632]\n",
      " [0.47368421]\n",
      " [0.73684211]\n",
      " [1.        ]]\n"
     ]
    }
   ],
   "source": [
    "from sklearn.preprocessing import MinMaxScaler\n",
    "import pandas as pd\n",
    "\n",
    "data = {'feature': [10, 50, 100, 150, 200]}\n",
    "df = pd.DataFrame(data)\n",
    "\n",
    "scaler = MinMaxScaler()\n",
    "scaled_data = scaler.fit_transform(df)\n",
    "\n",
    "print(scaled_data)"
   ]
  },
  {
   "cell_type": "code",
   "execution_count": 6,
   "id": "72fd87e5",
   "metadata": {},
   "outputs": [
    {
     "name": "stdout",
     "output_type": "stream",
     "text": [
      "   feature1  feature2 categorical_column  target\n",
      "0  0.000000  0.567568                  A      10\n",
      "1  0.268293       NaN                  B      15\n",
      "2  0.463415  0.000000                  C       7\n",
      "3  0.853659  1.000000                  A      18\n",
      "4       NaN  0.432432                  B      11\n",
      "5  0.951220  0.837838                  C      19\n",
      "6  0.390244       NaN                  A      13\n",
      "7  0.707317  0.756757                  B      16\n",
      "8  1.000000  0.810811                NaN      14\n",
      "9  0.512195  0.270270                  C      12\n"
     ]
    }
   ],
   "source": [
    "df = pd.read_csv('../resources/data.csv')\n",
    "\n",
    "# Select numerical columns for scaling\n",
    "numerical_cols = df[['feature1', 'feature2']]\n",
    "\n",
    "# Keep categorical and target columns separate\n",
    "categorical_cols = df[['categorical_column', 'target']]\n",
    "\n",
    "from sklearn.preprocessing import MinMaxScaler\n",
    "\n",
    "# Initialize the scaler\n",
    "scaler = MinMaxScaler()\n",
    "\n",
    "# Fit and transform the numerical columns\n",
    "numerical_scaled = scaler.fit_transform(numerical_cols)\n",
    "\n",
    "# Convert the scaled data back to a DataFrame\n",
    "numerical_scaled_df = pd.DataFrame(numerical_scaled, columns=numerical_cols.columns)\n",
    "\n",
    "# Combine scaled numerical data with the categorical columns\n",
    "df_scaled = pd.concat([numerical_scaled_df, categorical_cols.reset_index(drop=True)], axis=1)\n",
    "\n",
    "# Display the final DataFrame\n",
    "print(df_scaled)"
   ]
  },
  {
   "cell_type": "markdown",
   "id": "eadeb704",
   "metadata": {},
   "source": [
    "**Нормалізація за Z-балом (або стандартизація)**\n",
    "**(Z-Score Normalization or standardization)**\n",
    "\n",
    "Перемасштабовує дані так, щоб середнє значення дорівнювало 0, а стандартне відхилення — 1. Ця техніка корисна, коли дані мають гаусівський (нормальний) розподіл, але не обов'язково обмежені.\n",
    "\n",
    "$$X' = \\frac{X-\\nu}{\\sigma}$$\n",
    "\n",
    "- Використовуйте нормалізацію за Z-балом, коли ваші дані мають нормальний розподіл.\n",
    "- Це стандартний вибір для багатьох моделей машинного навчання, особливо тих, що передбачають нормальний розподіл даних."
   ]
  },
  {
   "cell_type": "code",
   "execution_count": 7,
   "id": "c5b94f65",
   "metadata": {},
   "outputs": [
    {
     "name": "stdout",
     "output_type": "stream",
     "text": [
      "[[-1.35411306]\n",
      " [-0.76536825]\n",
      " [-0.02943724]\n",
      " [ 0.70649377]\n",
      " [ 1.44242478]]\n"
     ]
    }
   ],
   "source": [
    "from sklearn.preprocessing import StandardScaler\n",
    "import pandas as pd\n",
    "\n",
    "data = {'feature': [10, 50, 100, 150, 200]}\n",
    "df = pd.DataFrame(data)\n",
    "\n",
    "scaler = StandardScaler()\n",
    "standardized_data = scaler.fit_transform(df)\n",
    "\n",
    "print(standardized_data)"
   ]
  },
  {
   "cell_type": "markdown",
   "id": "b1113423",
   "metadata": {},
   "source": [
    "**Надійне масштабування (Robust Scaling)**\n",
    "\n",
    "Використовує медіану та міжквартильний розмах (IQR) для масштабування, що робить його надійним щодо винятків. На відміну від мінімально-максимального масштабування та нормалізації Z-балу, надійне масштабування менше піддається впливу екстремальних значень у даних.\n",
    "\n",
    "$$X'=\\frac{X - \\text{медіана}(X)} {\\text{IQR}(X)}$$\n",
    "\n",
    "Де $\\text{IQR}(X)$ — діапазон між 25-м процентилем ($Q1$) і 75-м процентилем ($Q3$).\n",
    "\n",
    "- Використовуйте надійне масштабування, якщо ваші дані містять винятки або мають негаусівський розподіл.\n",
    "- Ідеально підходить для ситуацій, коли дані є асиметричними або містять екстремальні значення, які не повинні сильно впливати на масштабування."
   ]
  },
  {
   "cell_type": "code",
   "execution_count": null,
   "id": "2b36222d",
   "metadata": {},
   "outputs": [],
   "source": [
    "from sklearn.preprocessing import RobustScaler\n",
    "import pandas as pd\n",
    "\n",
    "data = {'feature': [10, 50, 100, 150, 200]}\n",
    "df = pd.DataFrame(data)\n",
    "\n",
    "scaler = RobustScaler()\n",
    "robust_scaled_data = scaler.fit_transform(df)\n",
    "\n",
    "print(robust_scaled_data)"
   ]
  },
  {
   "cell_type": "markdown",
   "id": "5f3f4262",
   "metadata": {},
   "source": [
    "*Мінімально-максимальне масштабування*: використовується, коли відомі межі даних або коли алгоритм вимагає даних у певному діапазоні.\n",
    "\n",
    "*Нормалізація за Z-балом*: підходить для нормально розподілених даних або коли потрібно стандартизувати ознаки, щоб вони мали однакову важливість.\n",
    "\n",
    "*Надійне масштабування*: найкраще підходить для роботи з даними, що містять винятки."
   ]
  },
  {
   "cell_type": "markdown",
   "id": "42893225",
   "metadata": {},
   "source": [
    "## Вступ до конструювання ознак (Feature Engineering)\n",
    "\n",
    "Інженерія ознак є важливим етапом у процесі попередньої обробки даних. Вона передбачає перетворення необроблених даних на ознаки, які краще відображають основну проблему для моделей прогнозування. Якісна інженерія ознак може значно покращити ефективність моделей машинного навчання, надаючи їм найбільш релевантні та інформативні вхідні дані.\n",
    "\n",
    "*Інженерія ознак* — це процес відбору, модифікації або створення нових ознак з необроблених даних для покращення ефективності моделей машинного навчання. Метою є створення ознак, які ефективніше відображають основні закономірності в даних, ніж вихідні необроблені дані. Правильна інженерія ознак може призвести до спрощення моделей, підвищення точності та скорочення часу навчання.\n",
    "\n",
    "**Створення нових ознак** \n",
    "\n",
    "Включає виведення нових змінних з існуючих, які краще відображають основну структуру даних. Це може включати математичні перетворення, агрегації або операції, специфічні для певної області."
   ]
  },
  {
   "cell_type": "code",
   "execution_count": 8,
   "id": "76a2a1a3",
   "metadata": {},
   "outputs": [
    {
     "name": "stdout",
     "output_type": "stream",
     "text": [
      "   height  weight        BMI\n",
      "0    1.60      55  21.484375\n",
      "1    1.75      80  26.122449\n",
      "2    1.82      72  21.736505\n",
      "3    1.90      90  24.930748\n"
     ]
    }
   ],
   "source": [
    "import pandas as pd\n",
    "\n",
    "data = {\n",
    "    'height': [1.60, 1.75, 1.82, 1.90],\n",
    "    'weight': [55, 80, 72, 90]\n",
    "}\n",
    "df = pd.DataFrame(data)\n",
    "\n",
    "# Creating a new feature: BMI\n",
    "df['BMI'] = df['weight'] / (df['height'] ** 2)\n",
    "\n",
    "print(df)"
   ]
  },
  {
   "cell_type": "markdown",
   "id": "66fe8d21",
   "metadata": {},
   "source": [
    "**Кодування категоріальних змінних**\n",
    "\n",
    "Алгоритми машинного навчання зазвичай вимагають числових даних. Тому категоріальні змінні необхідно перетворити в числовий формат. Існує кілька методів кодування категоріальних змінних:\n",
    "\n",
    "Кодування *One-hot* перетворює кожну категорію в новий бінарний стовпець. Цей метод підходить для випадків, коли кількість категорій обмежена."
   ]
  },
  {
   "cell_type": "code",
   "execution_count": 9,
   "id": "2d38a1b0",
   "metadata": {},
   "outputs": [
    {
     "name": "stdout",
     "output_type": "stream",
     "text": [
      "   color_blue  color_green  color_red\n",
      "0           0            0          1\n",
      "1           1            0          0\n",
      "2           0            1          0\n"
     ]
    }
   ],
   "source": [
    "data = {'color': ['red', 'blue', 'green']}\n",
    "df = pd.DataFrame(data)\n",
    "\n",
    "# One-Hot Encoding\n",
    "df_encoded = pd.get_dummies(df, columns=['color'])\n",
    "\n",
    "print(df_encoded)"
   ]
  },
  {
   "cell_type": "markdown",
   "id": "093dc453",
   "metadata": {},
   "source": [
    "*Кодування міток* присвоює кожної категорії унікальне ціле число. Це простий метод, але він передбачає порядкові відносини між категоріями, що може бути недоречним у деяких випадках."
   ]
  },
  {
   "cell_type": "code",
   "execution_count": 10,
   "id": "2487d91b",
   "metadata": {},
   "outputs": [
    {
     "name": "stdout",
     "output_type": "stream",
     "text": [
      "   color  color_encoded\n",
      "0    red              2\n",
      "1   blue              0\n",
      "2  green              1\n"
     ]
    }
   ],
   "source": [
    "from sklearn.preprocessing import LabelEncoder\n",
    "\n",
    "data = {'color': ['red', 'blue', 'green']}\n",
    "df = pd.DataFrame(data)\n",
    "\n",
    "# Label Encoding\n",
    "encoder = LabelEncoder()\n",
    "df['color_encoded'] = encoder.fit_transform(df['color'])\n",
    "\n",
    "print(df)"
   ]
  },
  {
   "cell_type": "markdown",
   "id": "87f9e651",
   "metadata": {},
   "source": [
    "*Цільове кодування* передбачає заміну кожної категорії середнім значенням цільової змінної для цієї категорії. Ця техніка є корисною, коли категоріальна змінна має велику кількість рівнів."
   ]
  },
  {
   "cell_type": "code",
   "execution_count": 11,
   "id": "3c44317d",
   "metadata": {},
   "outputs": [
    {
     "name": "stdout",
     "output_type": "stream",
     "text": [
      "   color  target  color_encoded\n",
      "0    red       1            1.0\n",
      "1   blue       0            0.5\n",
      "2  green       0            0.0\n",
      "3    red       1            1.0\n",
      "4   blue       1            0.5\n",
      "5  green       0            0.0\n"
     ]
    }
   ],
   "source": [
    "data = {\n",
    "    'color': ['red', 'blue', 'green', 'red', 'blue', 'green'],\n",
    "    'target': [1, 0, 0, 1, 1, 0]\n",
    "}\n",
    "df = pd.DataFrame(data)\n",
    "\n",
    "# Target Encoding\n",
    "df['color_encoded'] = df.groupby('color')['target'].transform('mean')\n",
    "\n",
    "print(df)"
   ]
  },
  {
   "cell_type": "markdown",
   "id": "dc133b74",
   "metadata": {},
   "source": [
    "**Особливості взаємодії**\n",
    "\n",
    "Особливості взаємодії створюються шляхом поєднання двох або більше змінних для відображення взаємодії між ними. Ці особливості можуть виявити взаємозв'язки, які не є очевидними при розгляді змінних окремо.\n",
    "\n",
    "*Приклад*:\n",
    "\n",
    "Припустимо, що ви маєте такі даны, як вік і дохід користувачів. Термін взаємодії можна створити шляхом множення цих двох властивостей, щоб відобразити, як дохід змінюється з віком."
   ]
  },
  {
   "cell_type": "code",
   "execution_count": 12,
   "id": "ba2a4e10",
   "metadata": {},
   "outputs": [
    {
     "name": "stdout",
     "output_type": "stream",
     "text": [
      "   age  income  age_income_interaction\n",
      "0   25   30000                  750000\n",
      "1   35   50000                 1750000\n",
      "2   45   70000                 3150000\n",
      "3   55   90000                 4950000\n"
     ]
    }
   ],
   "source": [
    "data = {\n",
    "    'age': [25, 35, 45, 55],\n",
    "    'income': [30000, 50000, 70000, 90000]\n",
    "}\n",
    "df = pd.DataFrame(data)\n",
    "\n",
    "# Creating an interaction feature\n",
    "df['age_income_interaction'] = df['age'] * df['income']\n",
    "\n",
    "print(df)"
   ]
  },
  {
   "cell_type": "markdown",
   "id": "e382289b",
   "metadata": {},
   "source": [
    "**Поліноміальні ознаки**\n",
    "\n",
    "Створюються шляхом генерації нових ознак, які є поліноміальними комбінаціями існуючих ознак. Це може бути особливо корисно при моделюванні нелінійних взаємозв'язків.\n",
    "\n",
    "*Приклад*:\n",
    "\n",
    "Припустимо, у вас є одна ознака x. Ви можете створити поліноміальні ознаки, такі як x^2, x^3 тощо, які можуть допомогти у виявленні нелінійних взаємозв'язків у даних."
   ]
  },
  {
   "cell_type": "code",
   "execution_count": 13,
   "id": "18b2bbb4",
   "metadata": {},
   "outputs": [
    {
     "data": {
      "text/html": [
       "<div>\n",
       "<style scoped>\n",
       "    .dataframe tbody tr th:only-of-type {\n",
       "        vertical-align: middle;\n",
       "    }\n",
       "\n",
       "    .dataframe tbody tr th {\n",
       "        vertical-align: top;\n",
       "    }\n",
       "\n",
       "    .dataframe thead th {\n",
       "        text-align: right;\n",
       "    }\n",
       "</style>\n",
       "<table border=\"1\" class=\"dataframe\">\n",
       "  <thead>\n",
       "    <tr style=\"text-align: right;\">\n",
       "      <th></th>\n",
       "      <th>x</th>\n",
       "      <th>x^2</th>\n",
       "    </tr>\n",
       "  </thead>\n",
       "  <tbody>\n",
       "    <tr>\n",
       "      <th>0</th>\n",
       "      <td>2.0</td>\n",
       "      <td>4.0</td>\n",
       "    </tr>\n",
       "    <tr>\n",
       "      <th>1</th>\n",
       "      <td>3.0</td>\n",
       "      <td>9.0</td>\n",
       "    </tr>\n",
       "    <tr>\n",
       "      <th>2</th>\n",
       "      <td>4.0</td>\n",
       "      <td>16.0</td>\n",
       "    </tr>\n",
       "  </tbody>\n",
       "</table>\n",
       "</div>"
      ],
      "text/plain": [
       "     x   x^2\n",
       "0  2.0   4.0\n",
       "1  3.0   9.0\n",
       "2  4.0  16.0"
      ]
     },
     "execution_count": 13,
     "metadata": {},
     "output_type": "execute_result"
    }
   ],
   "source": [
    "from sklearn.preprocessing import PolynomialFeatures\n",
    "\n",
    "data = {'x': [2, 3, 4]}\n",
    "df = pd.DataFrame(data)\n",
    "\n",
    "# Creating polynomial features (degree 2)\n",
    "poly = PolynomialFeatures(degree=2, include_bias=False)\n",
    "poly_features = poly.fit_transform(df)\n",
    "\n",
    "# Convert the polynomial features back to a DataFrame\n",
    "df_poly = pd.DataFrame(poly_features, columns=poly.get_feature_names_out(['x']))\n",
    "\n",
    "df_poly"
   ]
  }
 ],
 "metadata": {
  "kernelspec": {
   "display_name": "Python 3",
   "language": "python",
   "name": "python3"
  },
  "language_info": {
   "codemirror_mode": {
    "name": "ipython",
    "version": 3
   },
   "file_extension": ".py",
   "mimetype": "text/x-python",
   "name": "python",
   "nbconvert_exporter": "python",
   "pygments_lexer": "ipython3",
   "version": "3.10.0"
  }
 },
 "nbformat": 4,
 "nbformat_minor": 5
}
