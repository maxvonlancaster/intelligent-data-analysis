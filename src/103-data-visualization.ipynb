{
 "cells": [
  {
   "cell_type": "markdown",
   "id": "45fb0d9d",
   "metadata": {},
   "source": [
    "# Data visualization"
   ]
  },
  {
   "cell_type": "markdown",
   "id": "219952de",
   "metadata": {},
   "source": [
    "It is important to emphasize a distinction between two very different concepts that people both describing using the umbrella term “visualization”. The first of these is “visualization for data exploration”: using visualization to understand (that is, to undrstand yourself) a collection of data for the purposes of further analysis. In a short phrase, this type of visualization has the goal of you “finding what is true” within the data. The alternative is “visualization for presentation”: distilling some aspect of the data into an easily-understandable figure or chart that conveys to a broad audience some very particular aspect of the data that you want to convey. This type of visualization is about “convincing other people your finding is true”.\n",
    "\n",
    "## Visualization vs. statistics\n",
    "\n",
    "Visualization almost always presents a more informative (though less quantitative) view of your data than statistics (the noun, not the field)"
   ]
  },
  {
   "cell_type": "code",
   "execution_count": null,
   "id": "3c3221de",
   "metadata": {},
   "outputs": [],
   "source": []
  },
  {
   "cell_type": "markdown",
   "id": "d557709c",
   "metadata": {},
   "source": [
    "## Types of data\n",
    "\n",
    "The four basic types of data are:\n",
    "\n",
    "- *Nominal data*: categorical data with no inherent ordering between the categories. For example, a “pet type” variable could consist of the classes {dog, cat, rabbit}, and there is no relative ordering between these two types, they are just different discrete values.\n",
    "\n",
    "- *Ordinal data*: categorical data with an inherent ordering, but where the “differences” between categories has no strictly numerical meaning. The canonical example here are survey responses with responses such as: {strong disagree, slightly disagree, neutral, slightly agree, strongly agree}. The important character here is that although there is a clear ordering between these types, there is no sense in which the difference between slightly agree and strongly agree is the “same” as the difference between neutral and slightly agree.\n",
    "\n",
    "- *Interval data*: numeric data, that is, data that can be mapped to a “number line”; the important aspect in contrast with ordinal data, though, is not the “discrete versus continuous differentiation (integer values can be considered interval data, for instance), but the fact that relative differences in interval data have meaning. A classical example is temperature (in Fahrenheit or Celsius, a point which we will emphasize more shortly): here the differences between temperatures have a meaning: 10 and 15 degrees are separated by the same amount as 15 and 20 (this property is so inherent to numerical data that it almost seems strange to emphasize it). On the other hand, interval data encompasses instances where the zero point has “no real meaning”; what this means in practice is that the ratio between two data points has no meaning. Twenty degrees Farenheit is not “twice as hot” in any meaningful sense than 10 degrees; and certainly not infinitely hotter than zero degrees.\n",
    "\n",
    "- *Ratio data*: also numeric data, but where the ratio between measurements does have some meaning. The classical example here is temperature Kelvin. Obviously just like temperature Fahrenheit or Celsius, this is describing the basic phenomenon of temperature, but unlike the previous cases, zero Kelvin has a meaning in terms of molecular energy in a substance (i.e., that there is none). This means that ratios have a real meaning: a substance at 20 degrees Kelvin has twice as much kinetic energy at the molecular level as that substance as 10 degrees Kelvin.\n",
    "\n",
    "“Allowable operations” we can perform on two data point of the different types:\n",
    "\n",
    "Nominal data: =,≠. All we can do with nominal data is compare two data points and test if they are equal or not.\n",
    "\n",
    "Ordinal data: =,≠,<,>. In addition to checking for equality, we can also compare the ordering of different data points.\n",
    "\n",
    "Interval data: =,≠,<,>,−. We have all the operations of ordinal data, but can also compute exact numeric differences between two data points. Depending on context we may say that addition is allowed too, but sometimes addition actually assumes a zero point and so would only apply to ratio data.\n",
    "\n",
    "Ratio data: =,≠,<,0,−,+,÷. We have all the operations of interval data, but addition is now virtually always allowed, and we can additional perform division (to determine ratios) between different data points.\n",
    "\n",
    "**In short**:\n",
    "\n",
    "Nominal: categorical data, no ordering Example – Pet: {dog, cat, rabbit, …} Operations: =, ≠\n",
    "\n",
    "Ordinal: categorical data, with ordering Example – Rating: {\"bad\",\"neutral\",\"good\",\"very good\"} Operations: =, ≠, ≥, ≤, >, <\n",
    "\n",
    "Interval: numerical data, zero doesn’t mean zero “quantity” Example – Temperature Fahrenheit, Celsius Operations: = , ≠, ≥, ≤, >, <, +, −\n",
    "\n",
    "Ratio: numerical data, zero has meaning related to zero “quantity” Example – Temperature Kelvin Operations: = , ≠, ≥, ≤, >, <, +, −,÷"
   ]
  }
 ],
 "metadata": {
  "language_info": {
   "name": "python"
  }
 },
 "nbformat": 4,
 "nbformat_minor": 5
}
