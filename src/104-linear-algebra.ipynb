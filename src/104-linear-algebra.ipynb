{
 "cells": [
  {
   "cell_type": "markdown",
   "id": "c346ce6d",
   "metadata": {},
   "source": [
    "# Лінійна алгебра та NumPy\n",
    "\n",
    "- Вектори та матриці відіграють центральну роль в IDA.\n",
    "- Матриці - очевидний спосіб зберігання табличних даних.\n",
    "- Основа лінійної алгебри, яка є мовою всіх алгоритмів аналізу даних (ml, ai тощо)."
   ]
  },
  {
   "cell_type": "markdown",
   "id": "00e0ed2f",
   "metadata": {},
   "source": [
    "## Вектори та Матриці\n",
    "\n",
    "*Вектор* - 1D масив даних \n",
    "\n",
    "$\\mathbf{v} = \\begin{bmatrix} x_1 \\\\ x_2 \\\\ ... \\\\ x_n \\end{bmatrix}$\n",
    "\n",
    "*Матриця* - 2D масив даних\n",
    "\n",
    "$$\n",
    "\\mathbf{A} = \\begin{bmatrix}\n",
    "x_{11} & x_{12} & ... & x_{1m} \\\\\n",
    "x_{21} & x_{22} & ... & x_{2m} \\\\\n",
    "... & ... & ... & ... \\\\\n",
    "x_{n1} & x_{n2} & ... & x_{nm}\n",
    "\\end{bmatrix}\n",
    "$$\n",
    "\n",
    "Існують також узагальнення матриць вищого порядку (так звані *тензори*), які представляють тривимірні або вищі масиви значень. Вони досить широко використовуються в сучасній науці про дані, хоча зазвичай (але, звичайно, не завжди) тензори використовуються лише в значенні «багатовимірного масиву», а не в їхньому справжньому лінійно-алгебраїчному значенні. Тензори як лінійні оператори, що діють, наприклад, на матриці або інші тензори вищого порядку, дещо рідше використовуються в базовій науці про дані."
   ]
  },
  {
   "cell_type": "markdown",
   "id": "7ceb52f8",
   "metadata": {},
   "source": [
    "### Порядок рядків і стовпців\n",
    "\n",
    "Матриці можуть бути розміщені в пам'яті за рядками або за стовпцями.\n",
    "\n",
    "$$\n",
    "\\mathbf{A} = \\begin{bmatrix}\n",
    "100 & 80 \\\\\n",
    "60 & 80 \\\\\n",
    "100 & 100\n",
    "\\end{bmatrix}\n",
    "$$\n",
    "\n",
    "За рядками: 100, 80, 60, 80, 100, 100\n",
    "\n",
    "За стовпцями: 100, 60, 100, 80, 80, 100\n",
    "\n",
    "По замовчуванню в NumPy порядок за рядками"
   ]
  },
  {
   "cell_type": "markdown",
   "id": "e33790ce",
   "metadata": {},
   "source": [
    "## Основні операції\n",
    "\n",
    "**Додавання**: Дві матриці A та B, $[n\\times m]$, $A+B=C$ визначається: $C_{ij}=A_{ij}+B_{ij}$\n",
    "\n",
    "**Транспонування**: Для матриці $A$, $[n\\times m]$, транспонована матриця $C=A^{T}$ визначається: $C_{ij}=A_{ji}$\n",
    "\n",
    "**Множення**: Для матриць $A$ ($[n\\times m]$) та $B$ ($[m\\times p]$) добуток $C=AB$ ($[n\\times p]$) визначається: $C_{ij}=\\sum_{k=1}^{m}A_{ik}B_{kj}$\n",
    "\n",
    "Множення матриць є асоціативним ($(AB)C=A(BC)$), дистрибутивним $A(B+C)=AB+AC$, але не комутативним ($AB\\neq BA$).\n",
    "\n",
    "**Одинична матриця**: Одинична матриця I це квадратна матриця з одиницями на головній діагоналі та нулями в інших позиціях:\n",
    "\n",
    "$$\n",
    "\\mathbf{I} = \\begin{bmatrix}\n",
    "1 & 0 & ... & 0 \\\\\n",
    "0 & 1 & ... & 0 \\\\\n",
    "... & ... & ... & ... \\\\\n",
    "0 & 0 & ... & 1\n",
    "\\end{bmatrix}\n",
    "$$\n",
    "\n",
    "Для будь-якої матриці $A$: $AI=IA=A$\n",
    "\n",
    "**Обернена матриця**: Для квадратної матриці $A$, обернена матриця $A^{−1}$ це така матриця, що\n",
    "\n",
    "$A^{−1}A=AA^{−1}=I$\n",
    "\n",
    "Не для кожної квадратної матриці існує обернена.\n",
    "\n",
    "Деякі рівняння: $(AB)^{T}=B^{T}A^{T}$, $(AB)^{-1}=B^{-1}A^{-1}$\n",
    "\n",
    "Скалярний добуток векторів: $x*y$ = $x^{T}y = \\sum_{i=1}^{n}x_{i}y_{i}$;\n",
    "\n",
    "Норма вектора: $||x||_{2} = \\sqrt{\\sum_{i=1}^{n}x_{i}^{2}}$\n"
   ]
  },
  {
   "cell_type": "markdown",
   "id": "955a4575",
   "metadata": {},
   "source": [
    "## Масиви Numpy\n",
    "\n",
    "Створення масиву за допомогою команди `numpy.array` повертає тип `ndarray`. Ви також можете створювати масиви нулів, одиниць або випадкових чисел (у цьому випадку `np.randon.randn` створює матрицю зі стандартними випадковими нормальними елементами, а `np.random.rand` створює рівномірні випадкові елементи)."
   ]
  },
  {
   "cell_type": "code",
   "execution_count": 6,
   "id": "b881a98b",
   "metadata": {},
   "outputs": [
    {
     "name": "stdout",
     "output_type": "stream",
     "text": [
      "[[59.84826746 54.6202055  46.60308853 44.97843771 47.75510755 32.92728926\n",
      "  37.65072464 45.22961969 36.76930603 50.93383565]\n",
      " [59.73106134 49.79625816 52.88440576 42.88247714 41.45560219 55.17181386\n",
      "  50.44299213 60.73521407 50.98441893 63.37158909]\n",
      " [46.59995611 55.27716031 36.09245699 69.22993578 43.46543733 48.02862214\n",
      "  47.00807966 58.06692992 23.66072715 46.26772399]\n",
      " [62.2082221  44.43551774 45.26143886 67.22882528 49.62244415 34.90157224\n",
      "  71.86674352 51.35961906 62.16883849 48.62881638]\n",
      " [47.4160745  55.87835297 38.6677695  54.71102112 52.41167056 36.33472234\n",
      "  66.95975122 72.93134009 58.76958311 48.13077177]\n",
      " [46.50954746 48.80100781 36.51883868 43.49420983 47.15142286 25.61087618\n",
      "  45.55921887 49.75505496 57.83116108 37.16565521]\n",
      " [58.10485637 55.05152149 58.81631406 45.11167568 55.8323975  51.51946401\n",
      "  53.6849051  27.48216758 47.15161746 51.34840152]\n",
      " [58.94416448 45.45903083 44.75156541 54.69861056 40.12677761 60.41429235\n",
      "  71.08986497 47.406803   56.2159903  53.20827585]\n",
      " [42.30284707 54.01926561 55.40423287 36.87037047 49.41527203 62.1757972\n",
      "  54.9031906  53.39733391 43.45436982 43.036631  ]\n",
      " [57.86508121 45.3021791  55.90532608 45.11351817 57.43228025 43.97262291\n",
      "  53.90800116 48.50251938 49.99750519 44.92389544]]\n"
     ]
    }
   ],
   "source": [
    "import numpy as np\n",
    "\n",
    "b = np.array([-13,9])           \n",
    "A = np.array([[4,-5], [-2,3]])   \n",
    "#print(b, \"\\n\")\n",
    "#print(A, \"\\n\")\n",
    "\n",
    "#print(np.ones(40), \"\\n\")           # 1D array of ones\n",
    "#print(np.zeros(4), \"\\n\")          # 1D array of zeros\n",
    "#print(np.random.rand(40), \"\\n\")         # 1D array of random normal numbers\n",
    "\n",
    "#print(np.ones((3,4)), \"\\n\")       # 2D array of ones\n",
    "#print(np.zeros((3,4)), \"\\n\")      # 2D array of zeros\n",
    "#print(np.random.randn(3,4))       # 2D array of random normal numbers\n",
    "\n",
    "sigma, mu = 10, 50\n",
    "print(sigma * np.random.randn(10,10) + mu)  # 2D array of random normal numbers with mean mu and stddev sigma\n"
   ]
  },
  {
   "cell_type": "markdown",
   "id": "c724c0cd",
   "metadata": {},
   "source": [
    "Ви також можете створити матрицю ідентичності за допомогою команди `np.eye()`, а діагональну матрицю — за допомогою команди `np.diag()`."
   ]
  },
  {
   "cell_type": "code",
   "execution_count": 7,
   "id": "750f459e",
   "metadata": {},
   "outputs": [
    {
     "name": "stdout",
     "output_type": "stream",
     "text": [
      "[[1. 0. 0.]\n",
      " [0. 1. 0.]\n",
      " [0. 0. 1.]] \n",
      "\n",
      "[[ 0.50651677  0.          0.        ]\n",
      " [ 0.         -0.35063699  0.        ]\n",
      " [ 0.          0.         -0.72949183]] \n",
      "\n"
     ]
    }
   ],
   "source": [
    "print(np.eye(3),\"\\n\")                     # create array for 3x3 identity matrix\n",
    "print(np.diag(np.random.randn(3)),\"\\n\")   # create diagonal array"
   ]
  },
  {
   "cell_type": "markdown",
   "id": "ab6b9986",
   "metadata": {},
   "source": [
    "## Індексація в масивах numpy"
   ]
  },
  {
   "cell_type": "code",
   "execution_count": 8,
   "id": "5d46d3b3",
   "metadata": {},
   "outputs": [
    {
     "name": "stdout",
     "output_type": "stream",
     "text": [
      "[[ 1  2  3]\n",
      " [ 4  5  6]\n",
      " [ 7  8  9]\n",
      " [10 11 12]] \n",
      "\n",
      "5 \n",
      "\n",
      "[4 5 6] \n",
      "\n",
      "[[4 5 6]\n",
      " [7 8 9]] \n",
      "\n"
     ]
    }
   ],
   "source": [
    "A = np.array([[1,2,3], [4,5,6], [7,8,9], [10, 11, 12]])\n",
    "print(A, \"\\n\")\n",
    "print(A[1,1],\"\\n\")           # select singe entry\n",
    "print(A[1,:],\"\\n\")           # select entire row\n",
    "print(A[1:3, :], \"\\n\")       # slice indexing\n"
   ]
  },
  {
   "cell_type": "code",
   "execution_count": 9,
   "id": "b37ed6a1",
   "metadata": {},
   "outputs": [
    {
     "name": "stdout",
     "output_type": "stream",
     "text": [
      "[[5]] \n",
      "\n",
      "[[ 4  5  6]\n",
      " [ 7  8  9]\n",
      " [10 11 12]] \n",
      "\n",
      "[[7 8 9]\n",
      " [4 5 6]\n",
      " [7 8 9]] \n",
      "\n",
      "[[ 4  5  6]\n",
      " [10 11 12]] \n",
      "\n"
     ]
    }
   ],
   "source": [
    "print(A[1:2,1:2], \"\\n\")  # Select A[1,1] as a singleton 2D array\n",
    "print(A[[1,2,3],:], \"\\n\")  # select rows 1, 2, and 3\n",
    "print(A[[2,1,2],:], \"\\n\")  # select rows 2, 1, and 2 again\n",
    "print(A[[False, True, False, True],:], \"\\n\")  # Select 1st and 3rd rows"
   ]
  },
  {
   "cell_type": "markdown",
   "id": "236f56a8",
   "metadata": {},
   "source": [
    "## Основні операції над масивами\n",
    "\n",
    "Масиви можна додавати/віднімати, множити/ділити та транспонувати, але ці операції **не є ідентичними** до відповідних операцій у лінійній алгебрі.\n",
    "Множення та ділення масивів виконуються **поелементно**, вони **не** є множенням матриць або чимось, пов'язаним з оберненням матриць."
   ]
  },
  {
   "cell_type": "code",
   "execution_count": 10,
   "id": "0683fc39",
   "metadata": {},
   "outputs": [
    {
     "name": "stdout",
     "output_type": "stream",
     "text": [
      "[[ 2  3  4]\n",
      " [ 5  7  7]\n",
      " [10  9 12]\n",
      " [11 15 13]] \n",
      "\n",
      "[[ 0  1  2]\n",
      " [ 3  3  5]\n",
      " [ 4  7  6]\n",
      " [ 9  7 11]] \n",
      "\n",
      "[[ 1  2  3]\n",
      " [ 4 10  6]\n",
      " [21  8 27]\n",
      " [10 44 12]] \n",
      "\n",
      "[[ 1.          2.          3.        ]\n",
      " [ 4.          2.5         6.        ]\n",
      " [ 2.33333333  8.          3.        ]\n",
      " [10.          2.75       12.        ]] \n",
      "\n"
     ]
    }
   ],
   "source": [
    "A = np.array([[1,2,3], [4,5,6], [7,8,9], [10, 11, 12]])\n",
    "B = np.array([[1, 1, 1], [1,2,1], [3, 1, 3], [1, 4, 1]])\n",
    "\n",
    "print(A+B, \"\\n\") # add A and B elementwise (same as \"standard\" matrix addition)\n",
    "print(A-B, \"\\n\") # subtract B from A elementwise (same as \"standard\" matrix subtraction)\n",
    "print(A*B, \"\\n\") # elementwise multiplication, _not_ matrix multiplication\n",
    "print(A/B, \"\\n\") # elementwise division, _not_ matrix inversion"
   ]
  },
  {
   "cell_type": "markdown",
   "id": "db87228e",
   "metadata": {},
   "source": [
    "Ви можете транспонувати масиви, але зверніть увагу, що це має значення тільки для 2D (або вищих) масивів. Транспонування 1D масиву нічого не дає, оскільки Numpy не розрізняє стовпцеві вектори та рядкові вектори для 1D масивів."
   ]
  },
  {
   "cell_type": "code",
   "execution_count": 11,
   "id": "59eed5fe",
   "metadata": {},
   "outputs": [
    {
     "name": "stdout",
     "output_type": "stream",
     "text": [
      "[[ 1  2  3]\n",
      " [ 4  5  6]\n",
      " [ 7  8  9]\n",
      " [10 11 12]] \n",
      "\n",
      "[[ 1  4  7 10]\n",
      " [ 2  5  8 11]\n",
      " [ 3  6  9 12]] \n",
      "\n"
     ]
    }
   ],
   "source": [
    "print(A, \"\\n\")\n",
    "print(A.T, \"\\n\")"
   ]
  },
  {
   "cell_type": "markdown",
   "id": "766476a4",
   "metadata": {},
   "source": [
    "## Трансляція Numpy (broadcasting)\n",
    "\n",
    "Справжня цікавість починається, коли ви додаєте/віднімаєте/множите/ділите масиви різних розмірів. Замість того, щоб видавати помилку, Numpy спробує зрозуміти вашу операцію, використовуючи правила трансляції Numpy. Це складна тема, яка часто бентежить новачків у Numpy, але з невеликою практикою правила стають досить інтуїтивними."
   ]
  },
  {
   "cell_type": "code",
   "execution_count": 13,
   "id": "3dcd1a73",
   "metadata": {},
   "outputs": [
    {
     "name": "stdout",
     "output_type": "stream",
     "text": [
      "[[1. 1. 1.]\n",
      " [1. 1. 1.]\n",
      " [1. 1. 1.]\n",
      " [1. 1. 1.]] \n",
      "\n",
      "[[1 2 3]] \n",
      "\n",
      "[[1. 2. 3.]\n",
      " [1. 2. 3.]\n",
      " [1. 2. 3.]\n",
      " [1. 2. 3.]]\n"
     ]
    }
   ],
   "source": [
    "A = np.ones((4,3))          # A is 4x3\n",
    "x = np.array([[1,2,3]])      # x is 1x3\n",
    "\n",
    "print(A, '\\n')\n",
    "print(x, '\\n')\n",
    "\n",
    "print(A*x)                          # repeat x along dimension 4 (repeat four times), and multiply A"
   ]
  },
  {
   "cell_type": "markdown",
   "id": "faee9196",
   "metadata": {},
   "source": [
    "## Операції лінійної алгебри\n",
    "\n",
    "Починаючи з Python 3, між масивами numpy тепер існує оператор множення матриць `@` (раніше для цього доводилося використовувати більш громіздку функцію `np.dot()`)."
   ]
  },
  {
   "cell_type": "code",
   "execution_count": 14,
   "id": "0b1f906b",
   "metadata": {},
   "outputs": [
    {
     "name": "stdout",
     "output_type": "stream",
     "text": [
      "[[-0.77983164  0.86915701  0.74016041]\n",
      " [ 0.9441811  -1.13337787 -2.45126146]\n",
      " [ 1.06065113 -3.17950771 -3.50084458]\n",
      " [ 1.26732128 -1.3041138  -2.5499486 ]\n",
      " [ 1.60891994 -4.68541868 -4.6433185 ]] \n",
      "\n",
      "[ 1.53587182 -2.9122003  -2.53401694 -2.88846645 -3.50775768] \n",
      "\n",
      "2.236322572387176\n"
     ]
    }
   ],
   "source": [
    "A = np.random.randn(5,4)\n",
    "C = np.random.randn(4,3)\n",
    "x = np.random.randn(4)\n",
    "y = np.random.randn(5)\n",
    "z = np.random.randn(4)\n",
    "\n",
    "print(A @ C, \"\\n\")       # matrix-matrix multiply (returns 2D array)\n",
    "print(A @ x, \"\\n\")       # matrix-vector multiply (returns 1D array)\n",
    "print(x @ z)       # inner product (scalar) - be careful about return type, not an ndarray!"
   ]
  },
  {
   "cell_type": "markdown",
   "id": "fb8710ef",
   "metadata": {},
   "source": [
    "За замовчуванням оператор @ застосовується зліва направо, що може призвести до дуже неефективних порядків множення матриць."
   ]
  },
  {
   "cell_type": "code",
   "execution_count": null,
   "id": "78efbbf0",
   "metadata": {},
   "outputs": [
    {
     "name": "stdout",
     "output_type": "stream",
     "text": [
      "59.1 ms ± 7.45 ms per loop (mean ± std. dev. of 7 runs, 10 loops each)\n"
     ]
    }
   ],
   "source": [
    "A = np.random.randn(1000,1000)\n",
    "B = np.random.randn(1000,2000)\n",
    "x = np.random.randn(2000)\n",
    "\n",
    "# B @ x 1000x1\n",
    "\n",
    "%timeit A @ B @ x\n",
    "# print(A @ B @ x)"
   ]
  },
  {
   "cell_type": "markdown",
   "id": "829c127a",
   "metadata": {},
   "source": [
    "Це виконує матричні добутки $(AB)x$, які спочатку обчислюють неефективне множення матриць. Якщо ми хочемо обчислити добуток у набагато ефективнішому порядку $A(Bx)$, ми використаємо команду"
   ]
  },
  {
   "cell_type": "code",
   "execution_count": 16,
   "id": "3182c120",
   "metadata": {},
   "outputs": [
    {
     "name": "stdout",
     "output_type": "stream",
     "text": [
      "2.13 ms ± 226 µs per loop (mean ± std. dev. of 7 runs, 100 loops each)\n"
     ]
    }
   ],
   "source": [
    "%timeit A @ (B @ x)"
   ]
  },
  {
   "cell_type": "markdown",
   "id": "5c5faf7d",
   "metadata": {},
   "source": [
    "**Складність операцій**\n",
    "\n",
    "Припустимо, що $A$, $B$ [$n\\times n$], $x,y$ - вектори [n].\n",
    "\n",
    "Добуток матриць $AB$: $O(n^{3})$\n",
    "\n",
    "Добуток матриці та вектора $Ax$: $O(n^{2})$\n",
    "\n",
    "Внутрішній добуток векторів $x^{T}y$: $O(n)$\n",
    "\n",
    "Обернена матриця/розв'язання: $A^{-1}$: $O(n^{3})$"
   ]
  },
  {
   "cell_type": "markdown",
   "id": "6d507b0d",
   "metadata": {},
   "source": [
    "Нарешті, Numpy включає процедуру `np.linalg.inv()` для обчислення оберненої матриці $A^{−1}$ та `np.linalg.solve()` для обчислення матричного рівняння $A^{−1}b$."
   ]
  },
  {
   "cell_type": "code",
   "execution_count": 17,
   "id": "ab2a8b33",
   "metadata": {},
   "outputs": [
    {
     "name": "stdout",
     "output_type": "stream",
     "text": [
      "[[1.5 2.5]\n",
      " [1.  2. ]] \n",
      "\n",
      "[3. 5.]\n"
     ]
    }
   ],
   "source": [
    "b = np.array([-13,9])\n",
    "A = np.array([[4,-5], [-2,3]])\n",
    "\n",
    "print(np.linalg.inv(A), \"\\n\")   # explicitly form inverse\n",
    "print(np.linalg.solve(A,b))     # compute solution A^{-1}b"
   ]
  },
  {
   "cell_type": "markdown",
   "id": "75c04c7c",
   "metadata": {},
   "source": [
    "## Розріджені матриці\n",
    "\n",
    "Багато матриць є розрідженими (містять переважно нульові елементи, з лише декількома ненульовими \n",
    "елементами)\n",
    "\n",
    "Приклади: матриці, утворені реальними графами, матриці підрахунку слів у документах \n",
    "(більше про це пізніше)\n",
    "\n",
    "Зберігання всіх цих нулів у стандартному форматі матриці може бути великою тратою \n",
    "обчислювальних ресурсів і пам'яті\n",
    "\n",
    "Бібліотеки розріджених матриць надають ефективні засоби для обробки цих розріджених \n",
    "матриць, зберігаючи і оперуючи тільки ненульовими елементами\n",
    "\n",
    "Існує кілька різних способів зберігання розріджених матриць, кожен з яких оптимізований для \n",
    "різних операцій\n",
    "\n",
    "**Формат координат (COO):** зберігання кожного елемента як кортежу\n",
    "(row_index, col_index, value)\n",
    "\n",
    "$$\n",
    "\\mathbf{A} = \\begin{bmatrix}\n",
    "0 & 0 & 3 & 0 \\\\\n",
    "2 & 0 & 0 & 1 \\\\\n",
    "0 & 1 & 0 & 0 \\\\\n",
    "4 & 0 & 1 & 0\n",
    "\\end{bmatrix}\n",
    "$$\n",
    "\n",
    "Замість:\\\n",
    "$values = [2, 4, 1, 3, 1, 1]$\\\n",
    "$row-indices = [1, 3, 2, 0, 3, 1]$\\\n",
    "$column-indices = [0, 0, 1, 2, 2, 3]$"
   ]
  },
  {
   "cell_type": "markdown",
   "id": "61e45c70",
   "metadata": {},
   "source": [
    "## Python sparse matrix libraries\n",
    "\n",
    "https://docs.scipy.org/doc/scipy/reference/sparse.html"
   ]
  },
  {
   "cell_type": "code",
   "execution_count": 18,
   "id": "5e4d0392",
   "metadata": {},
   "outputs": [
    {
     "name": "stdout",
     "output_type": "stream",
     "text": [
      "[[0 0 3 0]\n",
      " [2 0 0 1]\n",
      " [0 1 0 0]\n",
      " [4 0 1 0]]\n"
     ]
    }
   ],
   "source": [
    "import scipy.sparse as sp\n",
    "\n",
    "\n",
    "values = [2, 4, 1, 3, 1, 1]\n",
    "row_indices = [1, 3, 2, 0, 3, 1]\n",
    "column_indices = [0, 0, 1, 2, 2, 3]\n",
    "A = sp.coo_matrix((values, (row_indices, column_indices)), shape=(4,4))\n",
    "print(A.todense())"
   ]
  }
 ],
 "metadata": {
  "kernelspec": {
   "display_name": "Python 3",
   "language": "python",
   "name": "python3"
  },
  "language_info": {
   "codemirror_mode": {
    "name": "ipython",
    "version": 3
   },
   "file_extension": ".py",
   "mimetype": "text/x-python",
   "name": "python",
   "nbconvert_exporter": "python",
   "pygments_lexer": "ipython3",
   "version": "3.10.0"
  }
 },
 "nbformat": 4,
 "nbformat_minor": 5
}
