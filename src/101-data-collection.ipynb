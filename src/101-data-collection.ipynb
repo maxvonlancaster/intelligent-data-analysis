{
 "cells": [
  {
   "cell_type": "markdown",
   "metadata": {},
   "source": [
    "# Збір даних (Data Collection)\n",
    "\n",
    "Першим кроком більшості процесів обробки даних є отримання даних. Дані, які ми зазвичай використовуємо, походять з багатьох різних джерел.\n",
    "\n",
    "Якщо вам пощастить, хтось може безпосередньо надати вам файл, наприклад CSV. А іноді для збору відповідних даних потрібно буде виконати запит до бази даних . Але в цій лекції ми поговоримо про збір даних з двох основних джерел:\n",
    "\n",
    "- запит до API (більшість з яких сьогодні є веб-орієнтованими); та\n",
    "- вилучення даних з веб-сторінки."
   ]
  },
  {
   "cell_type": "markdown",
   "metadata": {},
   "source": [
    "## Збір даних з веб-джерел (Collecting data from web-based sources)\n",
    "\n",
    "Переважна більшість автоматизованих запитів даних, які ви будете виконувати, використовуватимуть HTTP-запити (це стало домінуючим протоколом не тільки для запитів веб-сторінок)."
   ]
  },
  {
   "cell_type": "code",
   "execution_count": 6,
   "metadata": {},
   "outputs": [
    {
     "name": "stdout",
     "output_type": "stream",
     "text": [
      "Status Code: 200\n",
      "Headers: {'Date': 'Fri, 12 Sep 2025 05:44:43 GMT', 'Content-Type': 'text/html; charset=utf-8', 'Transfer-Encoding': 'chunked', 'Connection': 'keep-alive', 'Server': 'cloudflare', 'vary': 'Accept-Encoding', 'content-security-policy': \"default-src 'self' data: 'unsafe-eval' 'unsafe-inline' *.gstatic.com *.googleapis.com *.googletagmanager.com *.addtoany.com *.youtube-nocookie.com *.google.com *.google-analytics.com *.ytimg.com *.facebook.com forms.gle *.chnu.edu.ua *.madmagz.com madmagz.app www.arcgis.com; worker-src 'self' blob:\", 'x-frame-options': 'SAMEORIGIN, SAMEORIGIN', 'x-content-type-options': 'nosniff', 'strict-transport-security': 'max-age=31536000', 'referrer-policy': 'no-referrer', 'permissions-policy': 'accelerometer=(), camera=(), geolocation=*, gyroscope=(), magnetometer=(), microphone=(), payment=(), usb=()', 'Report-To': '{\"group\":\"cf-nel\",\"max_age\":604800,\"endpoints\":[{\"url\":\"https://a.nel.cloudflare.com/report/v4?s=F1n6Iq9gHVk11wnEd4wrbf12%2BXLAXthH1IJUzTBSfnr%2F1ms330zxxzH3Ms4VhtuOkWB1Ip%2FXALb5E2PcofhLqql4zZ3thcgQo8ctGZY0pw%3D%3D\"}]}', 'cf-cache-status': 'DYNAMIC', 'Nel': '{\"report_to\":\"cf-nel\",\"success_fraction\":0.0,\"max_age\":604800}', 'Content-Encoding': 'gzip', 'CF-RAY': '97dd183a79eb7a60-WAW', 'alt-svc': 'h3=\":443\"; ma=86400'}\n"
     ]
    }
   ],
   "source": [
    "import requests\n",
    "response = requests.get(\"https://fmi.chnu.edu.ua/\")\n",
    "\n",
    "print(\"Status Code:\", response.status_code)\n",
    "print(\"Headers:\", response.headers)"
   ]
  },
  {
   "cell_type": "code",
   "execution_count": null,
   "metadata": {},
   "outputs": [],
   "source": [
    "print(response.text)"
   ]
  },
  {
   "cell_type": "markdown",
   "metadata": {},
   "source": [
    "HTTP GET є найпоширенішим методом, але існують також методи PUT, POST, DELETE, які змінюють деякі параметри на сервері.\n",
    "\n",
    "Параметри URL можна вказати за допомогою бібліотеки запитів, як показано нижче:"
   ]
  },
  {
   "cell_type": "code",
   "execution_count": null,
   "metadata": {},
   "outputs": [],
   "source": [
    "params = {\"sa\":\"t\", \"rct\":\"j\", \"q\":\"\", \"esrc\":\"s\",\n",
    "\"source\":\"web\", \"cd\":\"9\", \"cad\":\"rja\", \"uact\":\"8\"}\n",
    "response = requests.get(\"http://www.google.com/url\", params=params)\n",
    "\n",
    "print(\"Final URL:\", response.url)\n",
    "print(response.text)"
   ]
  },
  {
   "cell_type": "markdown",
   "metadata": {},
   "source": [
    "## RESTful API\n",
    "\n",
    "Якщо ви перейдете від простого запиту веб-сторінок до веб-API, ви, швидше за все, зіткнетеся з REST API (Representational State Transfer). REST — це скоріше архітектура дизайну, але ось кілька ключових моментів:\n",
    "\n",
    "Використовує стандартний інтерфейс і методи HTTP (GET, PUT, POST, DELETE)\n",
    "Stateless – сервер не запам'ятовує, що ви робили\n",
    "Практичне правило: якщо ви надсилаєте ключ свого облікового запису разом із кожним викликом API, ви, ймовірно, використовуєте REST API\n",
    "\n",
    "Ви запитуєте REST API подібно до стандартних HTTP-запитів, але майже завжди потрібно включати параметри\n",
    "\n",
    "Отримайте власний токен доступу на https://github.com/settings/tokens/new GitHub API використовує GET/PUT/DELETE, щоб ви могли автоматично запитувати або оновлювати елементи у вашому обліковому записі GitHub Приклад REST: сервер не запам'ятовує ваші останні запити, наприклад, ви завжди повинні включати свій токен доступу, якщо використовуєте його таким чином"
   ]
  },
  {
   "cell_type": "code",
   "execution_count": 12,
   "metadata": {},
   "outputs": [
    {
     "name": "stdout",
     "output_type": "stream",
     "text": [
      "b'{\"login\":\"maxvonlancaster\",\"id\":38358502,\"node_id\":\"MDQ6VXNlcjM4MzU4NTAy\",\"avatar_url\":\"https://avatars.githubusercontent.com/u/38358502?v=4\",\"gravatar_id\":\"\",\"url\":\"https://api.github.com/users/maxvonlancaster\",\"html_url\":\"https://github.com/maxvonlancaster\",\"followers_url\":\"https://api.github.com/users/maxvonlancaster/followers\",\"following_url\":\"https://api.github.com/users/maxvonlancaster/following{/other_user}\",\"gists_url\":\"https://api.github.com/users/maxvonlancaster/gists{/gist_id}\",\"starred_url\":\"https://api.github.com/users/maxvonlancaster/starred{/owner}{/repo}\",\"subscriptions_url\":\"https://api.github.com/users/maxvonlancaster/subscriptions\",\"organizations_url\":\"https://api.github.com/users/maxvonlancaster/orgs\",\"repos_url\":\"https://api.github.com/users/maxvonlancaster/repos\",\"events_url\":\"https://api.github.com/users/maxvonlancaster/events{/privacy}\",\"received_events_url\":\"https://api.github.com/users/maxvonlancaster/received_events\",\"type\":\"User\",\"user_view_type\":\"private\",\"site_admin\":false,\"name\":\"Vasyl Melnyk\",\"company\":null,\"blog\":\"\",\"location\":null,\"email\":null,\"hireable\":null,\"bio\":null,\"twitter_username\":null,\"notification_email\":null,\"public_repos\":74,\"public_gists\":0,\"followers\":15,\"following\":11,\"created_at\":\"2018-04-13T16:14:05Z\",\"updated_at\":\"2025-07-23T04:27:46Z\",\"private_gists\":0,\"total_private_repos\":17,\"owned_private_repos\":17,\"disk_usage\":355595,\"collaborators\":0,\"two_factor_authentication\":true,\"plan\":{\"name\":\"free\",\"space\":976562499,\"collaborators\":0,\"private_repos\":10000}}'\n"
     ]
    }
   ],
   "source": [
    "import os\n",
    "from dotenv import load_dotenv\n",
    "\n",
    "load_dotenv()\n",
    "token = os.getenv(\"GITHUB_TOKEN\")\n",
    "\n",
    "headers = {'Authorization': 'Bearer '+token}\n",
    "response = requests.get(\"https://api.github.com/user\", headers=headers)\n",
    "print(response.content)"
   ]
  },
  {
   "cell_type": "markdown",
   "metadata": {},
   "source": [
    "## CSV-файли\n",
    "\n",
    "CSV: Відноситься до будь-якого текстового файлу з роздільниками (не завжди розділеного комами).\n",
    "\n",
    "Якщо самі значення містять коми, ви можете взяти їх у лапки (наш реєстратор, очевидно, завжди так робить, щоб бути впевненим)."
   ]
  },
  {
   "cell_type": "code",
   "execution_count": 13,
   "metadata": {},
   "outputs": [
    {
     "data": {
      "text/html": [
       "<div>\n",
       "<style scoped>\n",
       "    .dataframe tbody tr th:only-of-type {\n",
       "        vertical-align: middle;\n",
       "    }\n",
       "\n",
       "    .dataframe tbody tr th {\n",
       "        vertical-align: top;\n",
       "    }\n",
       "\n",
       "    .dataframe thead th {\n",
       "        text-align: right;\n",
       "    }\n",
       "</style>\n",
       "<table border=\"1\" class=\"dataframe\">\n",
       "  <thead>\n",
       "    <tr style=\"text-align: right;\">\n",
       "      <th></th>\n",
       "      <th>Date</th>\n",
       "      <th>Open</th>\n",
       "      <th>High</th>\n",
       "      <th>Low</th>\n",
       "      <th>Close</th>\n",
       "      <th>Volume</th>\n",
       "      <th>Currency</th>\n",
       "    </tr>\n",
       "  </thead>\n",
       "  <tbody>\n",
       "    <tr>\n",
       "      <th>0</th>\n",
       "      <td>2010-07-18</td>\n",
       "      <td>0.0</td>\n",
       "      <td>0.1</td>\n",
       "      <td>0.1</td>\n",
       "      <td>0.1</td>\n",
       "      <td>75</td>\n",
       "      <td>USD</td>\n",
       "    </tr>\n",
       "    <tr>\n",
       "      <th>1</th>\n",
       "      <td>2010-07-19</td>\n",
       "      <td>0.1</td>\n",
       "      <td>0.1</td>\n",
       "      <td>0.1</td>\n",
       "      <td>0.1</td>\n",
       "      <td>574</td>\n",
       "      <td>USD</td>\n",
       "    </tr>\n",
       "    <tr>\n",
       "      <th>2</th>\n",
       "      <td>2010-07-20</td>\n",
       "      <td>0.1</td>\n",
       "      <td>0.1</td>\n",
       "      <td>0.1</td>\n",
       "      <td>0.1</td>\n",
       "      <td>262</td>\n",
       "      <td>USD</td>\n",
       "    </tr>\n",
       "    <tr>\n",
       "      <th>3</th>\n",
       "      <td>2010-07-21</td>\n",
       "      <td>0.1</td>\n",
       "      <td>0.1</td>\n",
       "      <td>0.1</td>\n",
       "      <td>0.1</td>\n",
       "      <td>575</td>\n",
       "      <td>USD</td>\n",
       "    </tr>\n",
       "    <tr>\n",
       "      <th>4</th>\n",
       "      <td>2010-07-22</td>\n",
       "      <td>0.1</td>\n",
       "      <td>0.1</td>\n",
       "      <td>0.1</td>\n",
       "      <td>0.1</td>\n",
       "      <td>2160</td>\n",
       "      <td>USD</td>\n",
       "    </tr>\n",
       "    <tr>\n",
       "      <th>5</th>\n",
       "      <td>2010-07-23</td>\n",
       "      <td>0.1</td>\n",
       "      <td>0.1</td>\n",
       "      <td>0.1</td>\n",
       "      <td>0.1</td>\n",
       "      <td>2403</td>\n",
       "      <td>USD</td>\n",
       "    </tr>\n",
       "    <tr>\n",
       "      <th>6</th>\n",
       "      <td>2010-07-24</td>\n",
       "      <td>0.1</td>\n",
       "      <td>0.1</td>\n",
       "      <td>0.1</td>\n",
       "      <td>0.1</td>\n",
       "      <td>496</td>\n",
       "      <td>USD</td>\n",
       "    </tr>\n",
       "    <tr>\n",
       "      <th>7</th>\n",
       "      <td>2010-07-25</td>\n",
       "      <td>0.1</td>\n",
       "      <td>0.1</td>\n",
       "      <td>0.1</td>\n",
       "      <td>0.1</td>\n",
       "      <td>1551</td>\n",
       "      <td>USD</td>\n",
       "    </tr>\n",
       "    <tr>\n",
       "      <th>8</th>\n",
       "      <td>2010-07-26</td>\n",
       "      <td>0.1</td>\n",
       "      <td>0.1</td>\n",
       "      <td>0.1</td>\n",
       "      <td>0.1</td>\n",
       "      <td>877</td>\n",
       "      <td>USD</td>\n",
       "    </tr>\n",
       "    <tr>\n",
       "      <th>9</th>\n",
       "      <td>2010-07-27</td>\n",
       "      <td>0.1</td>\n",
       "      <td>0.1</td>\n",
       "      <td>0.1</td>\n",
       "      <td>0.1</td>\n",
       "      <td>3374</td>\n",
       "      <td>USD</td>\n",
       "    </tr>\n",
       "  </tbody>\n",
       "</table>\n",
       "</div>"
      ],
      "text/plain": [
       "         Date  Open  High  Low  Close  Volume Currency\n",
       "0  2010-07-18   0.0   0.1  0.1    0.1      75      USD\n",
       "1  2010-07-19   0.1   0.1  0.1    0.1     574      USD\n",
       "2  2010-07-20   0.1   0.1  0.1    0.1     262      USD\n",
       "3  2010-07-21   0.1   0.1  0.1    0.1     575      USD\n",
       "4  2010-07-22   0.1   0.1  0.1    0.1    2160      USD\n",
       "5  2010-07-23   0.1   0.1  0.1    0.1    2403      USD\n",
       "6  2010-07-24   0.1   0.1  0.1    0.1     496      USD\n",
       "7  2010-07-25   0.1   0.1  0.1    0.1    1551      USD\n",
       "8  2010-07-26   0.1   0.1  0.1    0.1     877      USD\n",
       "9  2010-07-27   0.1   0.1  0.1    0.1    3374      USD"
      ]
     },
     "execution_count": 13,
     "metadata": {},
     "output_type": "execute_result"
    }
   ],
   "source": [
    "import pandas as pd\n",
    "\n",
    "dataframe = pd.read_csv(\"../resources/bitcoin.csv\", delimiter=',', quotechar='\"')\n",
    "dataframe.head(10)"
   ]
  },
  {
   "cell_type": "markdown",
   "metadata": {},
   "source": [
    "## Парсинг JSON в Python\n",
    "\n",
    "Вбудована бібліотека для читання/запису об'єктів Python з/у файли JSON"
   ]
  },
  {
   "cell_type": "code",
   "execution_count": 15,
   "metadata": {},
   "outputs": [
    {
     "data": {
      "text/plain": [
       "'{\"login\": \"maxvonlancaster\", \"id\": 38358502, \"node_id\": \"MDQ6VXNlcjM4MzU4NTAy\", \"avatar_url\": \"https://avatars.githubusercontent.com/u/38358502?v=4\", \"gravatar_id\": \"\", \"url\": \"https://api.github.com/users/maxvonlancaster\", \"html_url\": \"https://github.com/maxvonlancaster\", \"followers_url\": \"https://api.github.com/users/maxvonlancaster/followers\", \"following_url\": \"https://api.github.com/users/maxvonlancaster/following{/other_user}\", \"gists_url\": \"https://api.github.com/users/maxvonlancaster/gists{/gist_id}\", \"starred_url\": \"https://api.github.com/users/maxvonlancaster/starred{/owner}{/repo}\", \"subscriptions_url\": \"https://api.github.com/users/maxvonlancaster/subscriptions\", \"organizations_url\": \"https://api.github.com/users/maxvonlancaster/orgs\", \"repos_url\": \"https://api.github.com/users/maxvonlancaster/repos\", \"events_url\": \"https://api.github.com/users/maxvonlancaster/events{/privacy}\", \"received_events_url\": \"https://api.github.com/users/maxvonlancaster/received_events\", \"type\": \"User\", \"user_view_type\": \"private\", \"site_admin\": false, \"name\": \"Vasyl Melnyk\", \"company\": null, \"blog\": \"\", \"location\": null, \"email\": null, \"hireable\": null, \"bio\": null, \"twitter_username\": null, \"notification_email\": null, \"public_repos\": 74, \"public_gists\": 0, \"followers\": 15, \"following\": 11, \"created_at\": \"2018-04-13T16:14:05Z\", \"updated_at\": \"2025-07-23T04:27:46Z\", \"private_gists\": 0, \"total_private_repos\": 17, \"owned_private_repos\": 17, \"disk_usage\": 355595, \"collaborators\": 0, \"two_factor_authentication\": true, \"plan\": {\"name\": \"free\", \"space\": 976562499, \"collaborators\": 0, \"private_repos\": 10000}}'"
      ]
     },
     "execution_count": 15,
     "metadata": {},
     "output_type": "execute_result"
    }
   ],
   "source": [
    "import json\n",
    "# load json from a REST API call\n",
    "\n",
    "headers = {'Authorization': 'token ' + token}\n",
    "response = requests.get(\"https://api.github.com/user\", headers=headers)\n",
    "data = json.loads(response.content)\n",
    "\n",
    "#json.load(file) # load json from file\n",
    "json.dumps(data) # return json string\n",
    "#json.dump(obj, file) # write json to file"
   ]
  },
  {
   "cell_type": "markdown",
   "metadata": {},
   "source": [
    "## Парсинг XML/HTML в Python\n",
    "\n",
    "Існує ряд XML/HTML-парсерів для Python, але для науки про дані добре підходить бібліотека BeautifulSoup (спеціально призначена для вилучення даних з XML/HTML-файлів)."
   ]
  },
  {
   "cell_type": "code",
   "execution_count": 16,
   "metadata": {},
   "outputs": [
    {
     "data": {
      "text/plain": [
       "[<a href=\"/cdn-cgi/l/email-protection#77141b105a1a16031f37141f190259121302590216\"><span><span class=\"__cf_email__\" data-cfemail=\"a0c3ccc78dcdc1d4c8e0c3c8ced58ec5c4d58ed5c1\">[email protected]</span></span></a>,\n",
       " <a href=\"https://www.facebook.com/fmi.org.ua/\" rel=\"noopener\" target=\"_blank\" title=\"Факультет математики та інформатики ЧНУ ім. Ю. Федьковича\"><span class=\"iconify-icon footer-social-link-icon icon--fa-brands icon--fa-brands--facebook-f\"></span></a>,\n",
       " <a href=\"https://www.instagram.com/m._i_.f/\" rel=\"noopener\" target=\"_blank\" title=\"Профбюро студентів ФМІ\"><span class=\"iconify-icon footer-social-link-icon icon--fa-brands icon--fa-brands--instagram\"></span></a>,\n",
       " <a href=\"https://youtube.com/@MathTube_\" rel=\"noopener\" target=\"_blank\" title=\"Youtube\"><span class=\"iconify-icon footer-social-link-icon icon--fa-brands icon--fa-brands--youtube\"></span></a>]"
      ]
     },
     "execution_count": 16,
     "metadata": {},
     "output_type": "execute_result"
    }
   ],
   "source": [
    "# get all the links within the webpage\n",
    "from bs4 import BeautifulSoup\n",
    "import requests\n",
    "\n",
    "response = requests.get(\"https://fmi.chnu.edu.ua/\")\n",
    "\n",
    "root = BeautifulSoup(response.content)\n",
    "root.find(\"div\").findAll(\"a\")"
   ]
  },
  {
   "cell_type": "markdown",
   "metadata": {},
   "source": [
    "## Регулярні вирази (Regular expressions)\n",
    "\n",
    "Після завантаження даних (або якщо вам потрібно створити парсер для завантаження даних іншого формату) часто доводиться шукати певні елементи в даних.\n",
    "\n",
    "Наприклад, знайти перше входження рядка «data science»"
   ]
  },
  {
   "cell_type": "code",
   "execution_count": null,
   "metadata": {},
   "outputs": [
    {
     "name": "stdout",
     "output_type": "stream",
     "text": [
      "41\n",
      "<re.Match object; span=(0, 4), match='This'>\n",
      "['a', 'a', 'a']\n"
     ]
    }
   ],
   "source": [
    "import re\n",
    "text = \"This course will introduce the basics of data science\"\n",
    "match = re.search(r\"data science\", text)\n",
    "print(match.start())\n",
    "print(re.match(r\"This\", text))\n",
    "\n",
    "# Regular expressions in Python\n",
    "\n",
    "match = re.match(r\"data science\", text) # check if start of text matches\n",
    "match = re.search(r\"data science\", text) # find first match or None\n",
    "\n",
    "all_matches = re.findall(r\"a\", text) # return all matches\n",
    "print(all_matches)\n",
    "\n",
    "\n",
    "# You can also use “compiled” version of regular expressions\n",
    "# regex = re.compile(r\"data science\")\n",
    "# regex.match(text, [startpos, [endpos]])\n",
    "# regex.search(...)s\n",
    "# regex.finditer(...)\n",
    "# regex.findall(...)"
   ]
  },
  {
   "cell_type": "markdown",
   "metadata": {},
   "source": [
    "## Відповідність декількох потенційних символів (Matching multiple potential characters)\n",
    "\n",
    "Справжня сила регулярних виразів полягає в можливості збігу декількох можливих послідовностей символів. Спеціальні символи в регулярних виразах: `.^$*+?{}\\[]|()` (якщо ви хочете, щоб ці символи збігалися точно, вам потрібно їх екранувати: `\\$`)\n",
    "\n",
    "Відповідність наборів символів:\n",
    "\n",
    "- Відповідність символу «a»: `a`\n",
    "- Відповідність символів «a», «b» або «c»: `[abc]`\n",
    "- Будь-який символ, крім «a», «b» або «c»: `[^abc]`\n",
    "- Відповідність будь-якої цифри: `\\d` (те саме, що `[0-9]`)\n",
    "- Відповідність будь-якого алфавітно-цифрового символу: `\\w` (те саме, що `[a-zA-z0-9_]`)\n",
    "- Відповідність пробілу: `\\s` (те саме, що `[ \\t\\n\\r\\f\\v]`)\n",
    "- Відповідність будь-якого символу: `.` (включно з новою лінією з re.DOTALL)\n",
    "\n",
    "Може збігатися з одним або декількома випадками символу (або набору символів)\n",
    "\n",
    "Деякі поширені модифікатори:\n",
    "\n",
    "- Відповідність символу «a» рівно один раз: `a`\n",
    "- Відповідність символу «a» нуль або один раз: `a?`\n",
    "- Відповідність символу «a» нуль або більше разів: `a*`\n",
    "- Відповідність символу «a» один або більше разів: `a+`\n",
    "- Відповідність символу «a» рівно n разів: `a{n}`\n",
    "\n",
    "Можна поєднувати їх із збігом декількох символів:\n",
    "\n",
    "- Відповідність усіх випадків «`<something>` science», де `<something>` — це алфавітно-цифровий рядок, що містить принаймні один символ:\n",
    "`\\w+\\s+science`\n",
    "\n"
   ]
  },
  {
   "cell_type": "markdown",
   "metadata": {},
   "source": [
    "### Групування (Grouping)\n",
    "\n",
    "Часто нам потрібно отримати більше інформації, ніж просто те, чи знайшли ми збіг чи ні (наприклад, ми можемо хотіти знати, який текст збігся).\n",
    "\n",
    "Групування: оберніть частини регулярного виразу в дужки, щоб «запам'ятати» ці частини збігу `(\\w+)\\s([Ss]cience)`."
   ]
  },
  {
   "cell_type": "code",
   "execution_count": 19,
   "metadata": {},
   "outputs": [
    {
     "name": "stdout",
     "output_type": "stream",
     "text": [
      "41 ('data', 'science')\n"
     ]
    }
   ],
   "source": [
    "text = \"This course will introduce the basics of data science\"\n",
    "match = re.search(r\"(\\w+)\\s([Ss]cience)\", text)\n",
    "print(match.start(), match.groups())\n",
    "# Why the ‘r’ before the string? Avoids need to double escape strings"
   ]
  },
  {
   "cell_type": "markdown",
   "metadata": {},
   "source": [
    "### Заміни (Substitutions) \n",
    "\n",
    "Регулярні вирази надають механізм для заміни одного тексту іншим текстом."
   ]
  },
  {
   "cell_type": "code",
   "execution_count": 20,
   "metadata": {},
   "outputs": [
    {
     "name": "stdout",
     "output_type": "stream",
     "text": [
      "This course will introduce the basics of data shmience\n"
     ]
    }
   ],
   "source": [
    "better_text = re.sub(r\"data science\", r\"schmada science\", text)\n",
    "\n",
    "# To include text that was remembered in the matching using groups, use the escaped sequences \n",
    "# \\1, \\2, … in the substitution text\n",
    "better_text = re.sub(r\"(\\w+)\\s([Ss])cience\", r\"\\1 \\2hmience\", text)\n",
    "print(better_text)"
   ]
  },
  {
   "cell_type": "markdown",
   "metadata": {},
   "source": [
    "### Порядок і жадібне зіставлення (Ordering and greedy matching)\n",
    "\n",
    "У регулярних виразах існує порядок операцій. `abc|def` відповідає рядкам «abc» або «def», а не «ab(c або d)ef». Ви можете обійти це, використовуючи дужки, наприклад `a(bc|de)f`. Це також створює групу, використовуйте `a(?:bc|de)f`, якщо ви не хочете її захоплювати.\n",
    "\n",
    "За замовчуванням регулярні вирази намагаються захопити якомога більше тексту (жадібне співставлення). `<(.*)>`, застосоване до `<a>text</a>`, буде відповідати всьому виразу. Якщо ви хочете захопити якомога менше тексту, використовуйте `<(.*?)>`, це буде відповідати тільки терміну `<a>`."
   ]
  }
 ],
 "metadata": {
  "kernelspec": {
   "display_name": "Python 3",
   "language": "python",
   "name": "python3"
  },
  "language_info": {
   "codemirror_mode": {
    "name": "ipython",
    "version": 3
   },
   "file_extension": ".py",
   "mimetype": "text/x-python",
   "name": "python",
   "nbconvert_exporter": "python",
   "pygments_lexer": "ipython3",
   "version": "3.10.0"
  }
 },
 "nbformat": 4,
 "nbformat_minor": 2
}
