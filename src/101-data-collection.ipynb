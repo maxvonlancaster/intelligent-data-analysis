{
 "cells": [
  {
   "cell_type": "markdown",
   "metadata": {},
   "source": [
    "# Data Collection\n",
    "\n",
    "The first step of most data science pipelines is to get some data. Data that we typically use comes from many different sources.\n",
    "\n",
    "If you’re lucky, someone may hand directly had you a file, such as a CSV. Or sometimes you’ll need to issue a database query to collect the relevant data . But in this lecture, we’ll talk about collecting data from two main sources:\n",
    "\n",
    "- querying an API (the majority of which are web-based, these days); and\n",
    "- scraping data from a web page."
   ]
  },
  {
   "cell_type": "markdown",
   "metadata": {},
   "source": [
    "## Collecting data from web-based sources\n",
    "\n",
    "The vast majority of automated data queries you will run will use HTTP requests (it’s become the dominant protocol for much more than just querying web pages)"
   ]
  },
  {
   "cell_type": "code",
   "execution_count": 1,
   "metadata": {},
   "outputs": [
    {
     "name": "stdout",
     "output_type": "stream",
     "text": [
      "Status Code: 200\n",
      "Headers: {'Date': 'Sat, 22 Mar 2025 18:47:38 GMT', 'Content-Type': 'text/html; charset=utf-8', 'Transfer-Encoding': 'chunked', 'Connection': 'keep-alive', 'vary': 'Accept-Encoding', 'content-security-policy': \"default-src 'self' data: 'unsafe-eval' 'unsafe-inline' *.gstatic.com *.googleapis.com *.googletagmanager.com *.addtoany.com *.youtube-nocookie.com *.google.com *.google-analytics.com *.ytimg.com *.facebook.com forms.gle *.chnu.edu.ua *.madmagz.com madmagz.app www.arcgis.com; worker-src 'self' blob:\", 'x-frame-options': 'SAMEORIGIN, SAMEORIGIN', 'x-content-type-options': 'nosniff', 'strict-transport-security': 'max-age=31536000', 'referrer-policy': 'no-referrer', 'permissions-policy': 'accelerometer=(), camera=(), geolocation=*, gyroscope=(), magnetometer=(), microphone=(), payment=(), usb=()', 'cf-cache-status': 'DYNAMIC', 'Report-To': '{\"endpoints\":[{\"url\":\"https:\\\\/\\\\/a.nel.cloudflare.com\\\\/report\\\\/v4?s=gI0IKWmPDtgcbaepRKJlU6LYsq2qJ0CI%2BifSCELQVu5NNUnPFKAEyZeHMUINY4Sml3E8lVIDvFeJfdJK0rD4Vcr0TFndT3GQcGsXJO3xiFU08gQalQrpqmbc3qjoNkpYkTU%3D\"}],\"group\":\"cf-nel\",\"max_age\":604800}', 'NEL': '{\"success_fraction\":0,\"report_to\":\"cf-nel\",\"max_age\":604800}', 'Server': 'cloudflare', 'CF-RAY': '9247dbcf5963ecbe-WAW', 'Content-Encoding': 'gzip', 'alt-svc': 'h3=\":443\"; ma=86400', 'server-timing': 'cfL4;desc=\"?proto=TCP&rtt=23337&min_rtt=23295&rtt_var=8766&sent=4&recv=6&lost=0&retrans=0&sent_bytes=2840&recv_bytes=765&delivery_rate=123631&cwnd=251&unsent_bytes=0&cid=3fc0f2d230497426&ts=179&x=0\"'}\n"
     ]
    }
   ],
   "source": [
    "import requests\n",
    "response = requests.get(\"https://fmi.chnu.edu.ua/\")\n",
    "\n",
    "print(\"Status Code:\", response.status_code)\n",
    "print(\"Headers:\", response.headers)"
   ]
  }
 ],
 "metadata": {
  "kernelspec": {
   "display_name": "Python 3",
   "language": "python",
   "name": "python3"
  },
  "language_info": {
   "codemirror_mode": {
    "name": "ipython",
    "version": 3
   },
   "file_extension": ".py",
   "mimetype": "text/x-python",
   "name": "python",
   "nbconvert_exporter": "python",
   "pygments_lexer": "ipython3",
   "version": "3.10.0"
  }
 },
 "nbformat": 4,
 "nbformat_minor": 2
}
